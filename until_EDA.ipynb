{
 "cells": [
  {
   "cell_type": "markdown",
   "id": "2fc5d159",
   "metadata": {},
   "source": [
    "# Loading Packages and Data"
   ]
  },
  {
   "cell_type": "code",
   "execution_count": 1,
   "id": "3fdd7b62",
   "metadata": {},
   "outputs": [],
   "source": [
    "import numpy as np\n",
    "import pandas as pd\n",
    "\n",
    "import matplotlib.pyplot as plt\n",
    "import seaborn as sns\n",
    "\n",
    "\n",
    "from sklearn.preprocessing import LabelEncoder\n",
    "from sklearn.preprocessing import StandardScaler\n",
    "\n",
    "from sklearn.decomposition import PCA\n",
    "\n",
    "import warnings\n",
    "warnings.filterwarnings(\"ignore\")"
   ]
  },
  {
   "cell_type": "code",
   "execution_count": 2,
   "id": "1ffe1928",
   "metadata": {},
   "outputs": [],
   "source": [
    "# to show the whole output results\n",
    "pd.set_option('display.max_rows', None)\n",
    "pd.set_option('display.max_columns', None)"
   ]
  },
  {
   "cell_type": "code",
   "execution_count": 3,
   "id": "dcd42a5e",
   "metadata": {},
   "outputs": [],
   "source": [
    "# load data\n",
    "data = pd.read_csv('../dataset/Bondora_raw.csv', low_memory=False)"
   ]
  },
  {
   "cell_type": "code",
   "execution_count": 4,
   "id": "f71e0cc8",
   "metadata": {},
   "outputs": [],
   "source": [
    "# sort data features/columns alphabitcally (just to ease exploration)\n",
    "data = data.sort_index(axis=1)"
   ]
  },
  {
   "cell_type": "markdown",
   "id": "dc6e0722",
   "metadata": {},
   "source": [
    "# Data Exploration"
   ]
  },
  {
   "cell_type": "code",
   "execution_count": 5,
   "id": "7c7f4e02",
   "metadata": {},
   "outputs": [
    {
     "name": "stdout",
     "output_type": "stream",
     "text": [
      "(134529, 112)\n"
     ]
    }
   ],
   "source": [
    "# show data dimensions\n",
    "print(data.shape)"
   ]
  },
  {
   "cell_type": "code",
   "execution_count": 6,
   "id": "6935bccd",
   "metadata": {
    "scrolled": true
   },
   "outputs": [
    {
     "name": "stdout",
     "output_type": "stream",
     "text": [
      "<class 'pandas.core.frame.DataFrame'>\n",
      "RangeIndex: 134529 entries, 0 to 134528\n",
      "Data columns (total 112 columns):\n",
      " #    Column                                  Dtype  \n",
      "---   ------                                  -----  \n",
      " 0    ActiveLateCategory                      object \n",
      " 1    ActiveLateLastPaymentCategory           object \n",
      " 2    ActiveScheduleFirstPaymentReached       bool   \n",
      " 3    Age                                     int64  \n",
      " 4    Amount                                  float64\n",
      " 5    AmountOfPreviousLoansBeforeLoan         float64\n",
      " 6    ApplicationSignedHour                   int64  \n",
      " 7    ApplicationSignedWeekday                int64  \n",
      " 8    AppliedAmount                           float64\n",
      " 9    BiddingStartedOn                        object \n",
      " 10   BidsApi                                 int64  \n",
      " 11   BidsManual                              float64\n",
      " 12   BidsPortfolioManager                    int64  \n",
      " 13   City                                    object \n",
      " 14   ContractEndDate                         object \n",
      " 15   Country                                 object \n",
      " 16   County                                  object \n",
      " 17   CreditScoreEeMini                       float64\n",
      " 18   CreditScoreEsEquifaxRisk                object \n",
      " 19   CreditScoreEsMicroL                     object \n",
      " 20   CreditScoreFiAsiakasTietoRiskGrade      object \n",
      " 21   CurrentDebtDaysPrimary                  float64\n",
      " 22   CurrentDebtDaysSecondary                float64\n",
      " 23   DateOfBirth                             object \n",
      " 24   DebtOccuredOn                           object \n",
      " 25   DebtOccuredOnForSecondary               object \n",
      " 26   DebtToIncome                            float64\n",
      " 27   DefaultDate                             object \n",
      " 28   EAD1                                    float64\n",
      " 29   EAD2                                    float64\n",
      " 30   EL_V0                                   float64\n",
      " 31   EL_V1                                   float64\n",
      " 32   Education                               float64\n",
      " 33   EmploymentDurationCurrentEmployer       object \n",
      " 34   EmploymentPosition                      object \n",
      " 35   EmploymentStatus                        float64\n",
      " 36   ExistingLiabilities                     int64  \n",
      " 37   ExpectedLoss                            float64\n",
      " 38   ExpectedReturn                          float64\n",
      " 39   FirstPaymentDate                        object \n",
      " 40   FreeCash                                float64\n",
      " 41   Gender                                  float64\n",
      " 42   GracePeriodEnd                          object \n",
      " 43   GracePeriodStart                        object \n",
      " 44   HomeOwnershipType                       float64\n",
      " 45   IncomeFromChildSupport                  float64\n",
      " 46   IncomeFromFamilyAllowance               float64\n",
      " 47   IncomeFromLeavePay                      float64\n",
      " 48   IncomeFromPension                       float64\n",
      " 49   IncomeFromPrincipalEmployer             float64\n",
      " 50   IncomeFromSocialWelfare                 float64\n",
      " 51   IncomeOther                             float64\n",
      " 52   IncomeTotal                             float64\n",
      " 53   Interest                                float64\n",
      " 54   InterestAndPenaltyBalance               float64\n",
      " 55   InterestAndPenaltyDebtServicingCost     float64\n",
      " 56   InterestAndPenaltyPaymentsMade          float64\n",
      " 57   InterestAndPenaltyWriteOffs             float64\n",
      " 58   InterestRecovery                        float64\n",
      " 59   LanguageCode                            int64  \n",
      " 60   LastPaymentOn                           object \n",
      " 61   LiabilitiesTotal                        float64\n",
      " 62   ListedOnUTC                             object \n",
      " 63   LoanApplicationStartedDate              object \n",
      " 64   LoanDate                                object \n",
      " 65   LoanDuration                            int64  \n",
      " 66   LoanId                                  object \n",
      " 67   LoanNumber                              int64  \n",
      " 68   LossGivenDefault                        float64\n",
      " 69   MaritalStatus                           float64\n",
      " 70   MaturityDate_Last                       object \n",
      " 71   MaturityDate_Original                   object \n",
      " 72   ModelVersion                            float64\n",
      " 73   MonthlyPayment                          float64\n",
      " 74   MonthlyPaymentDay                       int64  \n",
      " 75   NewCreditCustomer                       bool   \n",
      " 76   NextPaymentDate                         object \n",
      " 77   NextPaymentNr                           float64\n",
      " 78   NoOfPreviousLoansBeforeLoan             int64  \n",
      " 79   NrOfDependants                          object \n",
      " 80   NrOfScheduledPayments                   float64\n",
      " 81   OccupationArea                          float64\n",
      " 82   PlannedInterestPostDefault              float64\n",
      " 83   PlannedInterestTillDate                 float64\n",
      " 84   PlannedPrincipalPostDefault             float64\n",
      " 85   PlannedPrincipalTillDate                float64\n",
      " 86   PreviousEarlyRepaymentsBefoleLoan       float64\n",
      " 87   PreviousEarlyRepaymentsCountBeforeLoan  int64  \n",
      " 88   PreviousRepaymentsBeforeLoan            float64\n",
      " 89   PrincipalBalance                        float64\n",
      " 90   PrincipalDebtServicingCost              float64\n",
      " 91   PrincipalOverdueBySchedule              float64\n",
      " 92   PrincipalPaymentsMade                   float64\n",
      " 93   PrincipalRecovery                       float64\n",
      " 94   PrincipalWriteOffs                      float64\n",
      " 95   ProbabilityOfDefault                    float64\n",
      " 96   Rating                                  object \n",
      " 97   Rating_V0                               object \n",
      " 98   Rating_V1                               object \n",
      " 99   Rating_V2                               object \n",
      " 100  ReScheduledOn                           object \n",
      " 101  RecoveryStage                           float64\n",
      " 102  RefinanceLiabilities                    int64  \n",
      " 103  ReportAsOfEOD                           object \n",
      " 104  Restructured                            bool   \n",
      " 105  StageActiveSince                        object \n",
      " 106  Status                                  object \n",
      " 107  UseOfLoan                               int64  \n",
      " 108  UserName                                object \n",
      " 109  VerificationType                        float64\n",
      " 110  WorkExperience                          object \n",
      " 111  WorseLateCategory                       object \n",
      "dtypes: bool(3), float64(56), int64(14), object(39)\n",
      "memory usage: 112.3+ MB\n",
      "None\n"
     ]
    }
   ],
   "source": [
    "# show data info (columns' names, data types,...)\n",
    "print(data.info(verbose=True))"
   ]
  },
  {
   "cell_type": "code",
   "execution_count": 7,
   "id": "5024a8b5",
   "metadata": {},
   "outputs": [
    {
     "name": "stdout",
     "output_type": "stream",
     "text": [
      "  ActiveLateCategory ActiveLateLastPaymentCategory  \\\n",
      "0                NaN                           NaN   \n",
      "1                NaN                           NaN   \n",
      "2               180+                          180+   \n",
      "3                NaN                           NaN   \n",
      "4                NaN                          180+   \n",
      "\n",
      "   ActiveScheduleFirstPaymentReached  Age    Amount  \\\n",
      "0                               True   61  115.0408   \n",
      "1                               True   48  140.6057   \n",
      "2                               True   58  319.5409   \n",
      "3                               True   23   57.5205   \n",
      "4                               True   25  319.5436   \n",
      "\n",
      "   AmountOfPreviousLoansBeforeLoan  ApplicationSignedHour  \\\n",
      "0                          83.0852                     17   \n",
      "1                         255.6467                     20   \n",
      "2                           0.0000                     20   \n",
      "3                         134.2144                     12   \n",
      "4                         146.9966                     10   \n",
      "\n",
      "   ApplicationSignedWeekday  AppliedAmount     BiddingStartedOn  BidsApi  \\\n",
      "0                         5       319.5582  2009-06-11 16:40:39        0   \n",
      "1                         4       191.7349  2009-06-10 15:48:57        0   \n",
      "2                         6       319.5582  2009-06-05 19:12:29        0   \n",
      "3                         7       127.8233  2009-06-13 12:01:20        0   \n",
      "4                         4       319.5582  2009-06-10 10:17:13        0   \n",
      "\n",
      "   BidsManual  BidsPortfolioManager          City ContractEndDate Country  \\\n",
      "0    115.0410                     0       TALLINN      2010-07-06      EE   \n",
      "1    140.6057                     0  KOHTLA-JARVE      2009-07-07      EE   \n",
      "2    319.5580                     0         PÄRNU             NaN      EE   \n",
      "3     57.5205                     0      PALDISKI      2010-09-15      EE   \n",
      "4    319.5582                     0         TARTU      2016-07-28      EE   \n",
      "\n",
      "     County  CreditScoreEeMini CreditScoreEsEquifaxRisk CreditScoreEsMicroL  \\\n",
      "0     HARJU                NaN                      NaN                 NaN   \n",
      "1  IDA-VIRU                NaN                      NaN                 NaN   \n",
      "2     PÄRNU                NaN                      NaN                 NaN   \n",
      "3     HARJU                NaN                      NaN                 NaN   \n",
      "4     TARTU                NaN                      NaN                 NaN   \n",
      "\n",
      "  CreditScoreFiAsiakasTietoRiskGrade  CurrentDebtDaysPrimary  \\\n",
      "0                                NaN                     NaN   \n",
      "1                                NaN                     NaN   \n",
      "2                                NaN                  2813.0   \n",
      "3                                NaN                     NaN   \n",
      "4                                NaN                     NaN   \n",
      "\n",
      "   CurrentDebtDaysSecondary DateOfBirth DebtOccuredOn  \\\n",
      "0                       NaN  1947-11-26           NaN   \n",
      "1                       NaN  1960-11-05           NaN   \n",
      "2                    2935.0  1950-11-13    2012-05-14   \n",
      "3                       NaN  1986-03-29           NaN   \n",
      "4                    3835.0  1983-09-30           NaN   \n",
      "\n",
      "  DebtOccuredOnForSecondary  DebtToIncome DefaultDate      EAD1      EAD2  \\\n",
      "0                       NaN           0.0         NaN       NaN       NaN   \n",
      "1                       NaN           0.0         NaN       NaN       NaN   \n",
      "2                2012-01-13           0.0  2012-07-16  279.5049  270.7323   \n",
      "3                       NaN           0.0         NaN       NaN       NaN   \n",
      "4                2009-07-27           0.0  2009-09-28  319.5436  319.5436   \n",
      "\n",
      "   EL_V0  EL_V1  Education EmploymentDurationCurrentEmployer  \\\n",
      "0    NaN    NaN        3.0                        UpTo3Years   \n",
      "1    NaN    NaN        5.0                    MoreThan5Years   \n",
      "2    NaN    NaN        4.0                        UpTo4Years   \n",
      "3    NaN    NaN        2.0                        UpTo2Years   \n",
      "4    NaN    NaN        4.0                        UpTo2Years   \n",
      "\n",
      "          EmploymentPosition  EmploymentStatus  ExistingLiabilities  \\\n",
      "0          klienditeenindaja               3.0                    0   \n",
      "1  Õppealajuhataja lasteaias               3.0                    0   \n",
      "2                 teenindaja               3.0                    0   \n",
      "3               juhtmekoitja               NaN                    0   \n",
      "4          klienditeenindaja               3.0                    0   \n",
      "\n",
      "   ExpectedLoss  ExpectedReturn FirstPaymentDate  FreeCash  Gender  \\\n",
      "0           NaN             NaN       2009-07-27       0.0     1.0   \n",
      "1           NaN             NaN       2009-07-15       0.0     1.0   \n",
      "2           NaN             NaN       2009-07-27       0.0     1.0   \n",
      "3           NaN             NaN       2009-07-15       0.0     1.0   \n",
      "4           NaN             NaN       2009-07-27       0.0     1.0   \n",
      "\n",
      "  GracePeriodEnd GracePeriodStart  HomeOwnershipType  IncomeFromChildSupport  \\\n",
      "0            NaN              NaN                NaN                     0.0   \n",
      "1            NaN              NaN                NaN                     0.0   \n",
      "2            NaN              NaN                NaN                     0.0   \n",
      "3            NaN              NaN                NaN                     0.0   \n",
      "4            NaN              NaN                NaN                     0.0   \n",
      "\n",
      "   IncomeFromFamilyAllowance  IncomeFromLeavePay  IncomeFromPension  \\\n",
      "0                        0.0                 0.0                0.0   \n",
      "1                        0.0                 0.0                0.0   \n",
      "2                        0.0                 0.0                0.0   \n",
      "3                        0.0                 0.0                0.0   \n",
      "4                        0.0                 0.0                0.0   \n",
      "\n",
      "   IncomeFromPrincipalEmployer  IncomeFromSocialWelfare  IncomeOther  \\\n",
      "0                       6000.0                      0.0       4500.0   \n",
      "1                       8300.0                      0.0       2500.0   \n",
      "2                       5000.0                      0.0       2000.0   \n",
      "3                      11000.0                      0.0        600.0   \n",
      "4                       6800.0                      0.0          0.0   \n",
      "\n",
      "   IncomeTotal  Interest  InterestAndPenaltyBalance  \\\n",
      "0      10500.0      30.0                       0.00   \n",
      "1      10800.0      25.0                       0.00   \n",
      "2       7000.0      25.0                     414.07   \n",
      "3      11600.0      45.0                       0.00   \n",
      "4       6800.0      30.0                       0.00   \n",
      "\n",
      "   InterestAndPenaltyDebtServicingCost  InterestAndPenaltyPaymentsMade  \\\n",
      "0                                  0.0                         20.4222   \n",
      "1                                  0.0                          2.0227   \n",
      "2                                  0.0                         59.7626   \n",
      "3                                  0.0                         18.7323   \n",
      "4                                  0.0                        220.4200   \n",
      "\n",
      "   InterestAndPenaltyWriteOffs  InterestRecovery  LanguageCode LastPaymentOn  \\\n",
      "0                          0.0               NaN             1    2010-07-06   \n",
      "1                          0.0               NaN             1    2009-07-07   \n",
      "2                          0.0             50.99             1    2012-10-01   \n",
      "3                          0.0               NaN             1    2010-09-15   \n",
      "4                          2.4            220.42             1    2015-07-16   \n",
      "\n",
      "   LiabilitiesTotal          ListedOnUTC LoanApplicationStartedDate  \\\n",
      "0               0.0  2009-06-11 16:40:39        2009-06-11 16:40:39   \n",
      "1               0.0  2009-06-10 15:48:57        2009-06-10 15:48:57   \n",
      "2               0.0  2009-06-05 19:12:29        2009-06-05 19:12:29   \n",
      "3               0.0  2009-06-13 12:01:20        2009-06-13 12:01:20   \n",
      "4               0.0  2009-06-10 10:17:13        2009-06-10 10:17:13   \n",
      "\n",
      "     LoanDate  LoanDuration                                LoanId  LoanNumber  \\\n",
      "0  2009-06-16            12  F0660C80-83F3-4A97-8DA0-9C250112D6EC         659   \n",
      "1  2009-06-15             1  978BB85B-1C69-4D51-8447-9C240104A3A2         654   \n",
      "2  2009-06-15            20  EA44027E-7FA7-4BB2-846D-9C1F013C8A22         641   \n",
      "3  2009-06-15            15  CE67AD25-2951-4BEE-96BD-9C2700C61EF4         668   \n",
      "4  2009-06-14            12  9408BF8C-B159-4D6A-9D61-9C2400A986E3         652   \n",
      "\n",
      "   LossGivenDefault  MaritalStatus MaturityDate_Last MaturityDate_Original  \\\n",
      "0               NaN            1.0        2010-06-25            2010-06-25   \n",
      "1               NaN            4.0        2009-07-15            2009-07-15   \n",
      "2               NaN            1.0        2014-05-13            2011-02-25   \n",
      "3               NaN            3.0        2010-09-15            2010-09-15   \n",
      "4               NaN            2.0        2010-06-25            2010-06-25   \n",
      "\n",
      "   ModelVersion  MonthlyPayment  MonthlyPaymentDay  NewCreditCustomer  \\\n",
      "0           NaN             NaN                 25               True   \n",
      "1           NaN             NaN                 15              False   \n",
      "2           NaN             NaN                 25               True   \n",
      "3           NaN             NaN                 15               True   \n",
      "4           NaN             NaN                 25               True   \n",
      "\n",
      "  NextPaymentDate  NextPaymentNr  NoOfPreviousLoansBeforeLoan NrOfDependants  \\\n",
      "0             NaN            NaN                            1              0   \n",
      "1             NaN            NaN                            2              0   \n",
      "2             NaN            NaN                            0              0   \n",
      "3             NaN            NaN                            1              1   \n",
      "4             NaN            NaN                            1              0   \n",
      "\n",
      "   NrOfScheduledPayments  OccupationArea  PlannedInterestPostDefault  \\\n",
      "0                    NaN             7.0                         NaN   \n",
      "1                    NaN            16.0                         NaN   \n",
      "2                    NaN             9.0                       38.24   \n",
      "3                    NaN             1.0                         NaN   \n",
      "4                    NaN             7.0                       29.84   \n",
      "\n",
      "   PlannedInterestTillDate  PlannedPrincipalPostDefault  \\\n",
      "0                 319.0800                          NaN   \n",
      "1                  45.8300                          NaN   \n",
      "2                 197.2926                       236.97   \n",
      "3                 293.1000                          NaN   \n",
      "4                 833.8100                       247.76   \n",
      "\n",
      "   PlannedPrincipalTillDate  PreviousEarlyRepaymentsBefoleLoan  \\\n",
      "0                 1800.0000                                0.0   \n",
      "1                 2200.0000                                0.0   \n",
      "2                  319.5409                                0.0   \n",
      "3                  900.0000                                0.0   \n",
      "4                 5000.0000                                0.0   \n",
      "\n",
      "   PreviousEarlyRepaymentsCountBeforeLoan  PreviousRepaymentsBeforeLoan  \\\n",
      "0                                       0                        0.0000   \n",
      "1                                       0                      258.6256   \n",
      "2                                       0                        0.0000   \n",
      "3                                       0                        0.0000   \n",
      "4                                       0                        0.0000   \n",
      "\n",
      "   PrincipalBalance  PrincipalDebtServicingCost  PrincipalOverdueBySchedule  \\\n",
      "0              0.00                         0.0                         NaN   \n",
      "1              0.00                         0.0                         NaN   \n",
      "2            116.35                         0.0                      116.35   \n",
      "3              0.00                         0.0                         NaN   \n",
      "4              0.00                         0.0                         NaN   \n",
      "\n",
      "   PrincipalPaymentsMade  PrincipalRecovery  PrincipalWriteOffs  \\\n",
      "0               115.0408                NaN                 0.0   \n",
      "1               140.6057                NaN                 0.0   \n",
      "2               203.1909           163.1549                 0.0   \n",
      "3                57.5205                NaN                 0.0   \n",
      "4               319.5436           319.5436                 0.0   \n",
      "\n",
      "   ProbabilityOfDefault Rating Rating_V0 Rating_V1 Rating_V2 ReScheduledOn  \\\n",
      "0                   NaN    NaN       NaN       NaN       NaN           NaN   \n",
      "1                   NaN    NaN       NaN       NaN       NaN           NaN   \n",
      "2                   NaN    NaN       NaN       NaN       NaN           NaN   \n",
      "3                   NaN    NaN       NaN       NaN       NaN           NaN   \n",
      "4                   NaN    NaN       NaN       NaN       NaN           NaN   \n",
      "\n",
      "   RecoveryStage  RefinanceLiabilities ReportAsOfEOD  Restructured  \\\n",
      "0            NaN                     0    2020-01-27         False   \n",
      "1            NaN                     0    2020-01-27         False   \n",
      "2            NaN                     0    2020-01-27          True   \n",
      "3            NaN                     0    2020-01-27         False   \n",
      "4            NaN                     0    2020-01-27         False   \n",
      "\n",
      "      StageActiveSince  Status  UseOfLoan  UserName  VerificationType  \\\n",
      "0                  NaN  Repaid          7      KARU               2.0   \n",
      "1                  NaN  Repaid          7  koort681               2.0   \n",
      "2  2016-03-03 00:00:00    Late          2       0ie               2.0   \n",
      "3                  NaN  Repaid          0    Alyona               2.0   \n",
      "4                  NaN  Repaid          6       Kai               2.0   \n",
      "\n",
      "    WorkExperience WorseLateCategory  \n",
      "0  MoreThan25Years            91-120  \n",
      "1  MoreThan25Years               NaN  \n",
      "2  MoreThan25Years              180+  \n",
      "3        2To5Years             31-60  \n",
      "4       5To10Years              180+  \n"
     ]
    }
   ],
   "source": [
    "# show first 5 rows of data\n",
    "print(data.head())"
   ]
  },
  {
   "cell_type": "code",
   "execution_count": 8,
   "id": "30ec02fc",
   "metadata": {},
   "outputs": [
    {
     "name": "stdout",
     "output_type": "stream",
     "text": [
      "                 Age         Amount  AmountOfPreviousLoansBeforeLoan  \\\n",
      "count  134529.000000  134529.000000                    134529.000000   \n",
      "mean       40.819295    2543.872472                      2868.652401   \n",
      "std        12.348693    2170.128183                      4507.046575   \n",
      "min         0.000000       6.390000                         0.000000   \n",
      "25%        31.000000     744.000000                         0.000000   \n",
      "50%        40.000000    2125.000000                       396.354100   \n",
      "75%        50.000000    3600.000000                      4250.000000   \n",
      "max        77.000000   10632.000000                     53762.000000   \n",
      "\n",
      "       ApplicationSignedHour  ApplicationSignedWeekday  AppliedAmount  \\\n",
      "count          134529.000000             134529.000000  134529.000000   \n",
      "mean               13.374640                  3.907908    2727.947540   \n",
      "std                 4.992375                  1.726192    2374.439168   \n",
      "min                 0.000000                  1.000000      31.955800   \n",
      "25%                10.000000                  2.000000     800.000000   \n",
      "50%                13.000000                  4.000000    2125.000000   \n",
      "75%                17.000000                  5.000000    4145.000000   \n",
      "max                23.000000                  7.000000   10632.000000   \n",
      "\n",
      "             BidsApi     BidsManual  BidsPortfolioManager  CreditScoreEeMini  \\\n",
      "count  134529.000000  134529.000000         134529.000000        71722.00000   \n",
      "mean       29.111664     559.332590            966.452876          952.37584   \n",
      "std       150.159148     750.360512           1355.686016          102.71751   \n",
      "min         0.000000       0.000000              0.000000            0.00000   \n",
      "25%         0.000000      96.000000            155.000000         1000.00000   \n",
      "50%         0.000000     317.000000            465.000000         1000.00000   \n",
      "75%         5.000000     729.000000           1218.000000         1000.00000   \n",
      "max      7570.000000   10630.000000          10625.000000         1000.00000   \n",
      "\n",
      "       CurrentDebtDaysPrimary  CurrentDebtDaysSecondary   DebtToIncome  \\\n",
      "count            48518.000000              52250.000000  134484.000000   \n",
      "mean               593.448019                612.733053       7.769024   \n",
      "std                569.495276                607.882018      16.259688   \n",
      "min                  2.000000                  2.000000       0.000000   \n",
      "25%                115.000000                111.000000       0.000000   \n",
      "50%                415.000000                412.000000       0.000000   \n",
      "75%                914.000000                944.000000       3.010000   \n",
      "max               3919.000000               3938.000000     198.020000   \n",
      "\n",
      "               EAD1          EAD2        EL_V0         EL_V1      Education  \\\n",
      "count  42915.000000  42915.000000  4569.000000  12922.000000  134484.000000   \n",
      "mean    2351.471556   1909.285140     0.192519      0.186687       3.680713   \n",
      "std     2084.825355   1939.821339     0.187765      0.170862       1.174134   \n",
      "min        0.000000  -8014.960000     0.008775      0.008765      -1.000000   \n",
      "25%      691.850000    530.000000     0.061880      0.072916       3.000000   \n",
      "50%     1993.130000   1484.000000     0.117117      0.119986       4.000000   \n",
      "75%     3100.375000   2574.640000     0.267300      0.233324       5.000000   \n",
      "max    10630.000000  10630.000000     1.008540      0.998891       5.000000   \n",
      "\n",
      "       EmploymentStatus  ExistingLiabilities   ExpectedLoss  ExpectedReturn  \\\n",
      "count     134332.000000        134529.000000  131893.000000   131893.000000   \n",
      "mean           0.153716             3.181797       0.149255        0.136558   \n",
      "std            1.940581             3.424242       0.119853        0.075794   \n",
      "min           -1.000000             0.000000       0.000000       -0.798891   \n",
      "25%           -1.000000             1.000000       0.063505        0.103108   \n",
      "50%           -1.000000             2.000000       0.123398        0.134049   \n",
      "75%            3.000000             5.000000       0.210703        0.170998   \n",
      "max            6.000000            40.000000       1.008540        0.808546   \n",
      "\n",
      "            FreeCash         Gender  HomeOwnershipType  \\\n",
      "count  134484.000000  134484.000000      132877.000000   \n",
      "mean      122.239119       0.442097           3.357511   \n",
      "std       692.480442       0.636083           2.844225   \n",
      "min     -2332.000000       0.000000          -1.000000   \n",
      "25%         0.000000       0.000000           1.000000   \n",
      "50%         0.000000       0.000000           2.000000   \n",
      "75%         1.630000       1.000000           4.000000   \n",
      "max    158748.640000       2.000000          10.000000   \n",
      "\n",
      "       IncomeFromChildSupport  IncomeFromFamilyAllowance  IncomeFromLeavePay  \\\n",
      "count           134529.000000              134529.000000       134529.000000   \n",
      "mean                 2.359142                   5.682848            3.253239   \n",
      "std                 28.459953                  38.385899           77.523767   \n",
      "min                  0.000000                   0.000000            0.000000   \n",
      "25%                  0.000000                   0.000000            0.000000   \n",
      "50%                  0.000000                   0.000000            0.000000   \n",
      "75%                  0.000000                   0.000000            0.000000   \n",
      "max               2500.000000                2006.000000        21300.000000   \n",
      "\n",
      "       IncomeFromPension  IncomeFromPrincipalEmployer  \\\n",
      "count      134529.000000                134529.000000   \n",
      "mean           18.802698                   437.143384   \n",
      "std           150.849487                  1786.569939   \n",
      "min             0.000000                     0.000000   \n",
      "25%             0.000000                     0.000000   \n",
      "50%             0.000000                     0.000000   \n",
      "75%             0.000000                   326.000000   \n",
      "max          5038.000000                228400.000000   \n",
      "\n",
      "       IncomeFromSocialWelfare    IncomeOther   IncomeTotal       Interest  \\\n",
      "count            134529.000000  134529.000000  1.345290e+05  134529.000000   \n",
      "mean                  2.390005      43.112825  1.724150e+03      35.889583   \n",
      "std                  36.791193     459.081430  4.970166e+03      26.288644   \n",
      "min                   0.000000       0.000000  0.000000e+00       3.000000   \n",
      "25%                   0.000000       0.000000  8.570000e+02      20.000000   \n",
      "50%                   0.000000       0.000000  1.250000e+03      30.930000   \n",
      "75%                   0.000000       0.000000  1.900000e+03      40.400000   \n",
      "max                4551.000000   50000.000000  1.012019e+06     264.310000   \n",
      "\n",
      "       InterestAndPenaltyBalance  InterestAndPenaltyDebtServicingCost  \\\n",
      "count              134529.000000                         59129.000000   \n",
      "mean                  701.567107                            89.851455   \n",
      "std                  2514.595572                           287.449052   \n",
      "min                    -2.660000                             0.000000   \n",
      "25%                     0.000000                             0.000000   \n",
      "50%                     0.000000                             0.000000   \n",
      "75%                   202.900000                            17.330000   \n",
      "max                 64494.770000                          5295.290000   \n",
      "\n",
      "       InterestAndPenaltyPaymentsMade  InterestAndPenaltyWriteOffs  \\\n",
      "count                   134529.000000                 59129.000000   \n",
      "mean                       488.397102                    86.820368   \n",
      "std                        827.805133                   781.437462   \n",
      "min                          0.000000                     0.000000   \n",
      "25%                         44.930000                     0.000000   \n",
      "50%                        181.210000                     0.000000   \n",
      "75%                        568.530000                     0.000000   \n",
      "max                      16873.000000                 44352.190000   \n",
      "\n",
      "       InterestRecovery   LanguageCode  LiabilitiesTotal   LoanDuration  \\\n",
      "count      42915.000000  134529.000000      1.345290e+05  134529.000000   \n",
      "mean          15.150365       2.827874      5.620270e+02      46.151573   \n",
      "std          177.149905       1.959802      3.383163e+04      15.202688   \n",
      "min            0.000000       1.000000      0.000000e+00       1.000000   \n",
      "25%            0.000000       1.000000      7.354000e+01      36.000000   \n",
      "50%            0.000000       3.000000      3.163800e+02      48.000000   \n",
      "75%            0.000000       4.000000      6.205800e+02      60.000000   \n",
      "max        11040.090000      22.000000      1.240000e+07      60.000000   \n",
      "\n",
      "         LoanNumber  LossGivenDefault  MaritalStatus   ModelVersion  \\\n",
      "count  1.345290e+05     131893.000000  134484.000000  131893.000000   \n",
      "mean   9.449392e+05          0.409065      -0.109165       4.718408   \n",
      "std    4.786738e+05          0.314768       1.555404       1.883788   \n",
      "min    3.700000e+01          0.000000      -1.000000       0.000000   \n",
      "25%    6.206790e+05          0.000000      -1.000000       4.000000   \n",
      "50%    9.235970e+05          0.506748      -1.000000       6.000000   \n",
      "75%    1.311025e+06          0.650000       1.000000       6.000000   \n",
      "max    1.855339e+06          0.950165       5.000000       6.000000   \n",
      "\n",
      "       MonthlyPayment  MonthlyPaymentDay  NextPaymentNr  \\\n",
      "count   127844.000000      134529.000000   97788.000000   \n",
      "mean       119.083443          11.143188       5.178795   \n",
      "std        114.737919           7.044104       7.674427   \n",
      "min          0.000000           0.000000       0.000000   \n",
      "25%         34.990000           5.000000       0.000000   \n",
      "50%         97.380000          10.000000       3.000000   \n",
      "75%        157.512500          15.000000       7.000000   \n",
      "max       2368.540000          28.000000      60.000000   \n",
      "\n",
      "       NoOfPreviousLoansBeforeLoan  NrOfScheduledPayments  OccupationArea  \\\n",
      "count                134529.000000           97788.000000   134443.000000   \n",
      "mean                      1.487620              50.126795        1.381708   \n",
      "std                       2.396148              12.519530        4.880079   \n",
      "min                       0.000000               1.000000       -1.000000   \n",
      "25%                       0.000000              36.000000       -1.000000   \n",
      "50%                       1.000000              60.000000       -1.000000   \n",
      "75%                       2.000000              60.000000        1.000000   \n",
      "max                      25.000000              72.000000       19.000000   \n",
      "\n",
      "       PlannedInterestPostDefault  PlannedInterestTillDate  \\\n",
      "count                42915.000000            130587.000000   \n",
      "mean                  1099.982243               708.883798   \n",
      "std                   1514.736356              1276.371901   \n",
      "min                      0.000000                 0.000000   \n",
      "25%                    153.035000                61.225000   \n",
      "50%                    594.540000               212.000000   \n",
      "75%                   1484.440000               703.350000   \n",
      "max                  38352.990000             18054.620000   \n",
      "\n",
      "       PlannedPrincipalPostDefault  PlannedPrincipalTillDate  \\\n",
      "count                 42915.000000              54459.000000   \n",
      "mean                    849.838695                994.558014   \n",
      "std                    1271.781752               1654.973527   \n",
      "min                       0.000000                  0.000000   \n",
      "25%                      88.160000                 78.615000   \n",
      "50%                     322.970000                445.300000   \n",
      "75%                    1104.480000               1229.160000   \n",
      "max                   10567.810000              72000.000000   \n",
      "\n",
      "       PreviousEarlyRepaymentsBefoleLoan  \\\n",
      "count                       58026.000000   \n",
      "mean                          320.743805   \n",
      "std                          1561.799076   \n",
      "min                             0.000000   \n",
      "25%                             0.000000   \n",
      "50%                             0.000000   \n",
      "75%                             0.000000   \n",
      "max                         48100.000000   \n",
      "\n",
      "       PreviousEarlyRepaymentsCountBeforeLoan  PreviousRepaymentsBeforeLoan  \\\n",
      "count                           134529.000000                  91368.000000   \n",
      "mean                                 0.069903                    928.395548   \n",
      "std                                  0.359461                   2042.348751   \n",
      "min                                  0.000000                      0.000000   \n",
      "25%                                  0.000000                      0.000000   \n",
      "50%                                  0.000000                    197.980000   \n",
      "75%                                  0.000000                    780.950000   \n",
      "max                                 11.000000                  34077.420000   \n",
      "\n",
      "       PrincipalBalance  PrincipalDebtServicingCost  \\\n",
      "count     134529.000000                59129.000000   \n",
      "mean        1769.281104                    5.264702   \n",
      "std         2030.546309                   57.800582   \n",
      "min          -34.200000                    0.000000   \n",
      "25%          212.820000                    0.000000   \n",
      "50%         1061.990000                    0.000000   \n",
      "75%         2636.330000                    0.000000   \n",
      "max        10632.000000                 3325.330000   \n",
      "\n",
      "       PrincipalOverdueBySchedule  PrincipalPaymentsMade  PrincipalRecovery  \\\n",
      "count               119692.000000          134529.000000       42915.000000   \n",
      "mean                   232.959918             761.476162         336.213893   \n",
      "std                    721.414596            1371.557801         825.994549   \n",
      "min                      0.000000               0.000000           0.000000   \n",
      "25%                      0.000000              50.870000           0.000000   \n",
      "50%                      0.000000             208.100000           0.000000   \n",
      "75%                     85.505000             766.410000         262.596650   \n",
      "max                  10629.990000           10632.000000       10629.990000   \n",
      "\n",
      "       PrincipalWriteOffs  ProbabilityOfDefault  RecoveryStage  \\\n",
      "count        59129.000000         131893.000000   77241.000000   \n",
      "mean            24.574728              0.252434       1.473440   \n",
      "std            243.837975              0.149629       0.499297   \n",
      "min              0.000000              0.000000       1.000000   \n",
      "25%              0.000000              0.137188       1.000000   \n",
      "50%              0.000000              0.234140       1.000000   \n",
      "75%              0.000000              0.347411       2.000000   \n",
      "max          10629.990000              0.994429       2.000000   \n",
      "\n",
      "       RefinanceLiabilities      UseOfLoan  VerificationType  \n",
      "count         134529.000000  134529.000000     134484.000000  \n",
      "mean               0.187313       0.343026          2.817257  \n",
      "std                0.896455       3.311925          1.407908  \n",
      "min                0.000000      -1.000000          0.000000  \n",
      "25%                0.000000      -1.000000          1.000000  \n",
      "50%                0.000000      -1.000000          4.000000  \n",
      "75%                0.000000       0.000000          4.000000  \n",
      "max               23.000000     110.000000          4.000000  \n"
     ]
    }
   ],
   "source": [
    "# show data description (count, mean, std, min, max,...) for numerical features\n",
    "print(data.describe())"
   ]
  },
  {
   "cell_type": "code",
   "execution_count": 9,
   "id": "7f2be7e2",
   "metadata": {
    "scrolled": true
   },
   "outputs": [
    {
     "name": "stdout",
     "output_type": "stream",
     "text": [
      "ActiveLateCategory                             9\n",
      "ActiveLateLastPaymentCategory                  9\n",
      "ActiveScheduleFirstPaymentReached              2\n",
      "Age                                           62\n",
      "Amount                                      5223\n",
      "AmountOfPreviousLoansBeforeLoan            12005\n",
      "ApplicationSignedHour                         24\n",
      "ApplicationSignedWeekday                       7\n",
      "AppliedAmount                                593\n",
      "BiddingStartedOn                          134135\n",
      "BidsApi                                     1002\n",
      "BidsManual                                  4308\n",
      "BidsPortfolioManager                        5730\n",
      "City                                        7733\n",
      "ContractEndDate                             3944\n",
      "Country                                        4\n",
      "County                                      1010\n",
      "CreditScoreEeMini                              7\n",
      "CreditScoreEsEquifaxRisk                       6\n",
      "CreditScoreEsMicroL                           11\n",
      "CreditScoreFiAsiakasTietoRiskGrade            14\n",
      "CurrentDebtDaysPrimary                      1512\n",
      "CurrentDebtDaysSecondary                    1553\n",
      "DateOfBirth                                17952\n",
      "DebtOccuredOn                               1512\n",
      "DebtOccuredOnForSecondary                   1553\n",
      "DebtToIncome                                6789\n",
      "DefaultDate                                 1617\n",
      "EAD1                                       30627\n",
      "EAD2                                       33460\n",
      "EL_V0                                       1203\n",
      "EL_V1                                       1913\n",
      "Education                                      7\n",
      "EmploymentDurationCurrentEmployer              9\n",
      "EmploymentPosition                          3247\n",
      "EmploymentStatus                               7\n",
      "ExistingLiabilities                           39\n",
      "ExpectedLoss                               43852\n",
      "ExpectedReturn                             51144\n",
      "FirstPaymentDate                            2138\n",
      "FreeCash                                   23658\n",
      "Gender                                         3\n",
      "GracePeriodEnd                              1239\n",
      "GracePeriodStart                             991\n",
      "HomeOwnershipType                             12\n",
      "IncomeFromChildSupport                       193\n",
      "IncomeFromFamilyAllowance                    339\n",
      "IncomeFromLeavePay                           367\n",
      "IncomeFromPension                           1113\n",
      "IncomeFromPrincipalEmployer                 2922\n",
      "IncomeFromSocialWelfare                      401\n",
      "IncomeOther                                  583\n",
      "IncomeTotal                                 4149\n",
      "Interest                                    6501\n",
      "InterestAndPenaltyBalance                  40980\n",
      "InterestAndPenaltyDebtServicingCost        13879\n",
      "InterestAndPenaltyPaymentsMade             69259\n",
      "InterestAndPenaltyWriteOffs                 3315\n",
      "InterestRecovery                            1018\n",
      "LanguageCode                                  13\n",
      "LastPaymentOn                               2888\n",
      "LiabilitiesTotal                           48712\n",
      "ListedOnUTC                               134130\n",
      "LoanApplicationStartedDate                134334\n",
      "LoanDate                                    3502\n",
      "LoanDuration                                  31\n",
      "LoanId                                    134529\n",
      "LoanNumber                                134529\n",
      "LossGivenDefault                             589\n",
      "MaritalStatus                                  7\n",
      "MaturityDate_Last                           3310\n",
      "MaturityDate_Original                       3105\n",
      "ModelVersion                                   7\n",
      "MonthlyPayment                             25281\n",
      "MonthlyPaymentDay                             29\n",
      "NewCreditCustomer                              2\n",
      "NextPaymentDate                               26\n",
      "NextPaymentNr                                 61\n",
      "NoOfPreviousLoansBeforeLoan                   26\n",
      "NrOfDependants                                11\n",
      "NrOfScheduledPayments                         64\n",
      "OccupationArea                                21\n",
      "PlannedInterestPostDefault                 33897\n",
      "PlannedInterestTillDate                    57491\n",
      "PlannedPrincipalPostDefault                32266\n",
      "PlannedPrincipalTillDate                   30407\n",
      "PreviousEarlyRepaymentsBefoleLoan            495\n",
      "PreviousEarlyRepaymentsCountBeforeLoan        11\n",
      "PreviousRepaymentsBeforeLoan               47991\n",
      "PrincipalBalance                           64595\n",
      "PrincipalDebtServicingCost                  1310\n",
      "PrincipalOverdueBySchedule                 30597\n",
      "PrincipalPaymentsMade                      50727\n",
      "PrincipalRecovery                          16903\n",
      "PrincipalWriteOffs                          2815\n",
      "ProbabilityOfDefault                       27455\n",
      "Rating                                         8\n",
      "Rating_V0                                      8\n",
      "Rating_V1                                      8\n",
      "Rating_V2                                      8\n",
      "ReScheduledOn                               1700\n",
      "RecoveryStage                                  2\n",
      "RefinanceLiabilities                          21\n",
      "ReportAsOfEOD                                  1\n",
      "Restructured                                   2\n",
      "StageActiveSince                           47296\n",
      "Status                                         3\n",
      "UseOfLoan                                     17\n",
      "UserName                                   66654\n",
      "VerificationType                               5\n",
      "WorkExperience                                 6\n",
      "WorseLateCategory                              9\n",
      "dtype: int64\n"
     ]
    }
   ],
   "source": [
    "# show data unique values counts\n",
    "print(data.nunique())"
   ]
  },
  {
   "cell_type": "code",
   "execution_count": 10,
   "id": "57c5caf8",
   "metadata": {
    "scrolled": true
   },
   "outputs": [
    {
     "name": "stdout",
     "output_type": "stream",
     "text": [
      "9   ActiveLateCategory\n",
      "[nan '180+' '16-30' '1-7' '31-60' '8-15' '121-150' '91-120' '151-180'\n",
      " '61-90']\n",
      "9   ActiveLateLastPaymentCategory\n",
      "[nan '180+' '151-180' '31-60' '8-15' '1-7' '91-120' '16-30' '121-150'\n",
      " '61-90']\n",
      "2   ActiveScheduleFirstPaymentReached\n",
      "[ True False]\n",
      "24   ApplicationSignedHour\n",
      "[17 20 12 10 16  9 18 22 11 15  0 13 23 19 14  8 21  7  1  2  6  3  5  4]\n",
      "7   ApplicationSignedWeekday\n",
      "[5 4 6 7 1 3 2]\n",
      "4   Country\n",
      "['EE' 'FI' 'ES' 'SK']\n",
      "7   CreditScoreEeMini\n",
      "[  nan 1000.  700.  800.  600.  900.  500.    0.]\n",
      "6   CreditScoreEsEquifaxRisk\n",
      "[nan 'A' 'AA' 'B' 'C' 'AAA' 'D']\n",
      "11   CreditScoreEsMicroL\n",
      "[nan 'M3' 'M5' 'M1' 'M9' 'M2' 'M6' 'M4' 'M8' 'M7' 'M10' 'M']\n",
      "14   CreditScoreFiAsiakasTietoRiskGrade\n",
      "[nan 'RL2' 'RL1' 'RL4' 'RL3' 'RL0' 'RL5' '2' '1' '3' '4' '5' '6' '7' '8']\n",
      "7   Education\n",
      "[ 3.  5.  4.  2.  1.  0. nan -1.]\n",
      "9   EmploymentDurationCurrentEmployer\n",
      "['UpTo3Years' 'MoreThan5Years' 'UpTo4Years' 'UpTo2Years' 'UpTo1Year' nan\n",
      " 'UpTo5Years' 'TrialPeriod' 'Other' 'Retiree']\n",
      "7   EmploymentStatus\n",
      "[ 3. nan  2.  4.  5.  6.  0. -1.]\n",
      "39   ExistingLiabilities\n",
      "[ 0  6  4  1  8  3  2  5  7  9 10 12 11 15 14 17 13 16 18 24 19 26 23 20\n",
      " 21 22 25 27 36 30 28 35 29 31 32 33 34 39 40]\n",
      "3   Gender\n",
      "[ 1.  0.  2. nan]\n",
      "12   HomeOwnershipType\n",
      "[nan  0.  4.  2.  1.  3.  5.  8.  6.  7.  9. 10. -1.]\n",
      "13   LanguageCode\n",
      "[ 1  3  2  4  6 22 15  9  5 10 13  7 21]\n",
      "31   LoanDuration\n",
      "[12  1 20 15 24  6  2  5  3 10 18  4 17  9 13  7 14  8 22 16 11 19 60 21\n",
      " 36 48 30 42 27 52 38]\n",
      "7   MaritalStatus\n",
      "[ 1.  4.  3.  2.  5.  0. nan -1.]\n",
      "7   ModelVersion\n",
      "[nan  0.  1.  2.  3.  4.  5.  6.]\n",
      "29   MonthlyPaymentDay\n",
      "[25 15  9  3  1 10 28 24 20 23 11 18 12  5 26 22 16  2  7 13  6 21 14 19\n",
      "  8 27 17  4  0]\n",
      "2   NewCreditCustomer\n",
      "[ True False]\n",
      "26   NextPaymentDate\n",
      "[nan '2020-02-17' '2020-02-10' '2020-02-25' '2020-02-03' '2020-02-11'\n",
      " '2020-01-28' '2020-02-05' '2020-02-27' '2020-02-21' '2020-02-20'\n",
      " '2020-02-07' '2020-02-12' '2020-03-02' '2020-02-14' '2020-02-19'\n",
      " '2020-02-13' '2020-02-04' '2020-02-26' '2020-02-18' '2020-02-06'\n",
      " '2020-02-24' '2020-03-09' '2020-03-11' '2020-03-06' '2020-03-10'\n",
      " '2020-03-05']\n",
      "26   NoOfPreviousLoansBeforeLoan\n",
      "[ 1  2  0  3  4  5  9  8  7  6 11 10 13 20 12 14 15 16 17 18 19 21 22 23\n",
      " 24 25]\n",
      "11   NrOfDependants\n",
      "['0' '1' '3' '2' '5' '4' nan '6' '10Plus' '7' '10' '8']\n",
      "21   OccupationArea\n",
      "[ 7. 16.  9.  1. 10. 12.  8.  6. 11. 17.  5.  4.  3. 19. nan  0. 18. 15.\n",
      " 13. 14.  2. -1.]\n",
      "11   PreviousEarlyRepaymentsCountBeforeLoan\n",
      "[ 0  1  2  3  7  4  5  6  8  9 11]\n",
      "8   Rating\n",
      "[nan 'F' 'C' 'HR' 'D' 'E' 'B' 'A' 'AA']\n",
      "8   Rating_V0\n",
      "[nan 'HR' 'A' 'F' 'C' 'D' 'B' 'AA' 'E']\n",
      "8   Rating_V1\n",
      "[nan 'F' 'C' 'HR' 'D' 'E' 'B' 'A' 'AA']\n",
      "8   Rating_V2\n",
      "[nan 'D' 'B' 'HR' 'F' 'C' 'E' 'A' 'AA']\n",
      "2   RecoveryStage\n",
      "[nan  2.  1.]\n",
      "21   RefinanceLiabilities\n",
      "[ 0  2  1  3  5  4  6  7  8  9 10 11 12 13 14 17 19 16 15 18 23]\n",
      "1   ReportAsOfEOD\n",
      "['2020-01-27']\n",
      "2   Restructured\n",
      "[False  True]\n",
      "3   Status\n",
      "['Repaid' 'Late' 'Current']\n",
      "17   UseOfLoan\n",
      "[  7   2   0   6   8   3   5   4   1 110 101 102 104 108 106 107  -1]\n",
      "5   VerificationType\n",
      "[ 2.  4.  1.  3.  0. nan]\n",
      "6   WorkExperience\n",
      "['MoreThan25Years' '2To5Years' '5To10Years' '15To25Years' '10To15Years'\n",
      " 'LessThan2Years' nan]\n",
      "9   WorseLateCategory\n",
      "['91-120' nan '180+' '31-60' '151-180' '61-90' '1-7' '121-150' '16-30'\n",
      " '8-15']\n"
     ]
    }
   ],
   "source": [
    "# show data unique values if they are less than 50 values\n",
    "for column in data:\n",
    "    unique_count = data[column].nunique()\n",
    "    if(unique_count <= 50):\n",
    "        print(unique_count, ' ', column)\n",
    "        print(data[column].unique())"
   ]
  },
  {
   "cell_type": "code",
   "execution_count": 11,
   "id": "fc959d2b",
   "metadata": {
    "scrolled": true
   },
   "outputs": [
    {
     "name": "stdout",
     "output_type": "stream",
     "text": [
      "ActiveLateCategory                         86011\n",
      "ActiveLateLastPaymentCategory              82279\n",
      "ActiveScheduleFirstPaymentReached              0\n",
      "Age                                            0\n",
      "Amount                                         0\n",
      "AmountOfPreviousLoansBeforeLoan                0\n",
      "ApplicationSignedHour                          0\n",
      "ApplicationSignedWeekday                       0\n",
      "AppliedAmount                                  0\n",
      "BiddingStartedOn                               0\n",
      "BidsApi                                        0\n",
      "BidsManual                                     0\n",
      "BidsPortfolioManager                           0\n",
      "City                                        9794\n",
      "ContractEndDate                            75546\n",
      "Country                                        0\n",
      "County                                     36840\n",
      "CreditScoreEeMini                          62807\n",
      "CreditScoreEsEquifaxRisk                  122310\n",
      "CreditScoreEsMicroL                        29574\n",
      "CreditScoreFiAsiakasTietoRiskGrade        102011\n",
      "CurrentDebtDaysPrimary                     86011\n",
      "CurrentDebtDaysSecondary                   82279\n",
      "DateOfBirth                                    0\n",
      "DebtOccuredOn                              86011\n",
      "DebtOccuredOnForSecondary                  82279\n",
      "DebtToIncome                                  45\n",
      "DefaultDate                                91614\n",
      "EAD1                                       91614\n",
      "EAD2                                       91614\n",
      "EL_V0                                     129960\n",
      "EL_V1                                     121607\n",
      "Education                                     45\n",
      "EmploymentDurationCurrentEmployer            876\n",
      "EmploymentPosition                         98439\n",
      "EmploymentStatus                             197\n",
      "ExistingLiabilities                            0\n",
      "ExpectedLoss                                2636\n",
      "ExpectedReturn                              2636\n",
      "FirstPaymentDate                               0\n",
      "FreeCash                                      45\n",
      "Gender                                        45\n",
      "GracePeriodEnd                            115741\n",
      "GracePeriodStart                          115741\n",
      "HomeOwnershipType                           1652\n",
      "IncomeFromChildSupport                         0\n",
      "IncomeFromFamilyAllowance                      0\n",
      "IncomeFromLeavePay                             0\n",
      "IncomeFromPension                              0\n",
      "IncomeFromPrincipalEmployer                    0\n",
      "IncomeFromSocialWelfare                        0\n",
      "IncomeOther                                    0\n",
      "IncomeTotal                                    0\n",
      "Interest                                       0\n",
      "InterestAndPenaltyBalance                      0\n",
      "InterestAndPenaltyDebtServicingCost        75400\n",
      "InterestAndPenaltyPaymentsMade                 0\n",
      "InterestAndPenaltyWriteOffs                75400\n",
      "InterestRecovery                           91614\n",
      "LanguageCode                                   0\n",
      "LastPaymentOn                               9531\n",
      "LiabilitiesTotal                               0\n",
      "ListedOnUTC                                    0\n",
      "LoanApplicationStartedDate                     0\n",
      "LoanDate                                       0\n",
      "LoanDuration                                   0\n",
      "LoanId                                         0\n",
      "LoanNumber                                     0\n",
      "LossGivenDefault                            2636\n",
      "MaritalStatus                                 45\n",
      "MaturityDate_Last                              0\n",
      "MaturityDate_Original                          0\n",
      "ModelVersion                                2636\n",
      "MonthlyPayment                              6685\n",
      "MonthlyPaymentDay                              0\n",
      "NewCreditCustomer                              0\n",
      "NextPaymentDate                            68885\n",
      "NextPaymentNr                              36741\n",
      "NoOfPreviousLoansBeforeLoan                    0\n",
      "NrOfDependants                             98929\n",
      "NrOfScheduledPayments                      36741\n",
      "OccupationArea                                86\n",
      "PlannedInterestPostDefault                 91614\n",
      "PlannedInterestTillDate                     3942\n",
      "PlannedPrincipalPostDefault                91614\n",
      "PlannedPrincipalTillDate                   80070\n",
      "PreviousEarlyRepaymentsBefoleLoan          76503\n",
      "PreviousEarlyRepaymentsCountBeforeLoan         0\n",
      "PreviousRepaymentsBeforeLoan               43161\n",
      "PrincipalBalance                               0\n",
      "PrincipalDebtServicingCost                 75400\n",
      "PrincipalOverdueBySchedule                 14837\n",
      "PrincipalPaymentsMade                          0\n",
      "PrincipalRecovery                          91614\n",
      "PrincipalWriteOffs                         75400\n",
      "ProbabilityOfDefault                        2636\n",
      "Rating                                      2730\n",
      "Rating_V0                                 129960\n",
      "Rating_V1                                 121607\n",
      "Rating_V2                                 109386\n",
      "ReScheduledOn                              94207\n",
      "RecoveryStage                              57288\n",
      "RefinanceLiabilities                           0\n",
      "ReportAsOfEOD                                  0\n",
      "Restructured                                   0\n",
      "StageActiveSince                           53575\n",
      "Status                                         0\n",
      "UseOfLoan                                      0\n",
      "UserName                                       0\n",
      "VerificationType                              45\n",
      "WorkExperience                             98007\n",
      "WorseLateCategory                          45456\n",
      "dtype: int64\n"
     ]
    }
   ],
   "source": [
    "# show data null counts\n",
    "print(data.isnull().sum())"
   ]
  },
  {
   "cell_type": "code",
   "execution_count": 12,
   "id": "3aba95b8",
   "metadata": {},
   "outputs": [
    {
     "name": "stdout",
     "output_type": "stream",
     "text": [
      "ActiveLateCategory                        63.934914\n",
      "ActiveLateLastPaymentCategory             61.160791\n",
      "ActiveScheduleFirstPaymentReached          0.000000\n",
      "Age                                        0.000000\n",
      "Amount                                     0.000000\n",
      "AmountOfPreviousLoansBeforeLoan            0.000000\n",
      "ApplicationSignedHour                      0.000000\n",
      "ApplicationSignedWeekday                   0.000000\n",
      "AppliedAmount                              0.000000\n",
      "BiddingStartedOn                           0.000000\n",
      "BidsApi                                    0.000000\n",
      "BidsManual                                 0.000000\n",
      "BidsPortfolioManager                       0.000000\n",
      "City                                       7.280215\n",
      "ContractEndDate                           56.155922\n",
      "Country                                    0.000000\n",
      "County                                    27.384430\n",
      "CreditScoreEeMini                         46.686588\n",
      "CreditScoreEsEquifaxRisk                  90.917200\n",
      "CreditScoreEsMicroL                       21.983364\n",
      "CreditScoreFiAsiakasTietoRiskGrade        75.828260\n",
      "CurrentDebtDaysPrimary                    63.934914\n",
      "CurrentDebtDaysSecondary                  61.160791\n",
      "DateOfBirth                                0.000000\n",
      "DebtOccuredOn                             63.934914\n",
      "DebtOccuredOnForSecondary                 61.160791\n",
      "DebtToIncome                               0.033450\n",
      "DefaultDate                               68.099815\n",
      "EAD1                                      68.099815\n",
      "EAD2                                      68.099815\n",
      "EL_V0                                     96.603706\n",
      "EL_V1                                     90.394636\n",
      "Education                                  0.033450\n",
      "EmploymentDurationCurrentEmployer          0.651161\n",
      "EmploymentPosition                        73.173070\n",
      "EmploymentStatus                           0.146437\n",
      "ExistingLiabilities                        0.000000\n",
      "ExpectedLoss                               1.959429\n",
      "ExpectedReturn                             1.959429\n",
      "FirstPaymentDate                           0.000000\n",
      "FreeCash                                   0.033450\n",
      "Gender                                     0.033450\n",
      "GracePeriodEnd                            86.034238\n",
      "GracePeriodStart                          86.034238\n",
      "HomeOwnershipType                          1.227988\n",
      "IncomeFromChildSupport                     0.000000\n",
      "IncomeFromFamilyAllowance                  0.000000\n",
      "IncomeFromLeavePay                         0.000000\n",
      "IncomeFromPension                          0.000000\n",
      "IncomeFromPrincipalEmployer                0.000000\n",
      "IncomeFromSocialWelfare                    0.000000\n",
      "IncomeOther                                0.000000\n",
      "IncomeTotal                                0.000000\n",
      "Interest                                   0.000000\n",
      "InterestAndPenaltyBalance                  0.000000\n",
      "InterestAndPenaltyDebtServicingCost       56.047395\n",
      "InterestAndPenaltyPaymentsMade             0.000000\n",
      "InterestAndPenaltyWriteOffs               56.047395\n",
      "InterestRecovery                          68.099815\n",
      "LanguageCode                               0.000000\n",
      "LastPaymentOn                              7.084718\n",
      "LiabilitiesTotal                           0.000000\n",
      "ListedOnUTC                                0.000000\n",
      "LoanApplicationStartedDate                 0.000000\n",
      "LoanDate                                   0.000000\n",
      "LoanDuration                               0.000000\n",
      "LoanId                                     0.000000\n",
      "LoanNumber                                 0.000000\n",
      "LossGivenDefault                           1.959429\n",
      "MaritalStatus                              0.033450\n",
      "MaturityDate_Last                          0.000000\n",
      "MaturityDate_Original                      0.000000\n",
      "ModelVersion                               1.959429\n",
      "MonthlyPayment                             4.969189\n",
      "MonthlyPaymentDay                          0.000000\n",
      "NewCreditCustomer                          0.000000\n",
      "NextPaymentDate                           51.204573\n",
      "NextPaymentNr                             27.310840\n",
      "NoOfPreviousLoansBeforeLoan                0.000000\n",
      "NrOfDependants                            73.537304\n",
      "NrOfScheduledPayments                     27.310840\n",
      "OccupationArea                             0.063927\n",
      "PlannedInterestPostDefault                68.099815\n",
      "PlannedInterestTillDate                    2.930223\n",
      "PlannedPrincipalPostDefault               68.099815\n",
      "PlannedPrincipalTillDate                  59.518765\n",
      "PreviousEarlyRepaymentsBefoleLoan         56.867293\n",
      "PreviousEarlyRepaymentsCountBeforeLoan     0.000000\n",
      "PreviousRepaymentsBeforeLoan              32.083045\n",
      "PrincipalBalance                           0.000000\n",
      "PrincipalDebtServicingCost                56.047395\n",
      "PrincipalOverdueBySchedule                11.028849\n",
      "PrincipalPaymentsMade                      0.000000\n",
      "PrincipalRecovery                         68.099815\n",
      "PrincipalWriteOffs                        56.047395\n",
      "ProbabilityOfDefault                       1.959429\n",
      "Rating                                     2.029302\n",
      "Rating_V0                                 96.603706\n",
      "Rating_V1                                 90.394636\n",
      "Rating_V2                                 81.310349\n",
      "ReScheduledOn                             70.027280\n",
      "RecoveryStage                             42.584127\n",
      "RefinanceLiabilities                       0.000000\n",
      "ReportAsOfEOD                              0.000000\n",
      "Restructured                               0.000000\n",
      "StageActiveSince                          39.824127\n",
      "Status                                     0.000000\n",
      "UseOfLoan                                  0.000000\n",
      "UserName                                   0.000000\n",
      "VerificationType                           0.033450\n",
      "WorkExperience                            72.851950\n",
      "WorseLateCategory                         33.788997\n",
      "dtype: float64\n"
     ]
    }
   ],
   "source": [
    "# show data null percentages\n",
    "print((data.isnull().sum()/data.shape[0])*100)"
   ]
  },
  {
   "cell_type": "code",
   "execution_count": 13,
   "id": "fc44b3ea",
   "metadata": {
    "scrolled": true
   },
   "outputs": [
    {
     "name": "stdout",
     "output_type": "stream",
     "text": [
      "object   63.934913661738356 %   ActiveLateCategory\n",
      "object   61.16079061020301 %   ActiveLateLastPaymentCategory\n",
      "object   56.15592177151395 %   ContractEndDate\n",
      "float64   46.68658802191349 %   CreditScoreEeMini\n",
      "object   90.91720000892 %   CreditScoreEsEquifaxRisk\n",
      "object   75.82826007775274 %   CreditScoreFiAsiakasTietoRiskGrade\n",
      "float64   63.934913661738356 %   CurrentDebtDaysPrimary\n",
      "float64   61.16079061020301 %   CurrentDebtDaysSecondary\n",
      "object   63.934913661738356 %   DebtOccuredOn\n",
      "object   61.16079061020301 %   DebtOccuredOnForSecondary\n",
      "object   68.0998149097964 %   DefaultDate\n",
      "float64   68.0998149097964 %   EAD1\n",
      "float64   68.0998149097964 %   EAD2\n",
      "float64   96.60370626407689 %   EL_V0\n",
      "float64   90.39463610076638 %   EL_V1\n",
      "object   73.17307049037754 %   EmploymentPosition\n",
      "object   86.0342379709951 %   GracePeriodEnd\n",
      "object   86.0342379709951 %   GracePeriodStart\n",
      "float64   56.04739498546781 %   InterestAndPenaltyDebtServicingCost\n",
      "float64   56.04739498546781 %   InterestAndPenaltyWriteOffs\n",
      "float64   68.0998149097964 %   InterestRecovery\n",
      "object   51.20457299169696 %   NextPaymentDate\n",
      "object   73.53730422436799 %   NrOfDependants\n",
      "float64   68.0998149097964 %   PlannedInterestPostDefault\n",
      "float64   68.0998149097964 %   PlannedPrincipalPostDefault\n",
      "float64   59.51876547064202 %   PlannedPrincipalTillDate\n",
      "float64   56.86729255402181 %   PreviousEarlyRepaymentsBefoleLoan\n",
      "float64   56.04739498546781 %   PrincipalDebtServicingCost\n",
      "float64   68.0998149097964 %   PrincipalRecovery\n",
      "float64   56.04739498546781 %   PrincipalWriteOffs\n",
      "object   96.60370626407689 %   Rating_V0\n",
      "object   90.39463610076638 %   Rating_V1\n",
      "object   81.31034944138439 %   Rating_V2\n",
      "object   70.02728036334173 %   ReScheduledOn\n",
      "float64   42.584126842539526 %   RecoveryStage\n",
      "object   72.85195013714515 %   WorkExperience\n",
      "36\n"
     ]
    }
   ],
   "source": [
    "# show data null counts with percentage more than 40%\n",
    "count=0 \n",
    "for column in data:\n",
    "    nulls_percentage = (data[column].isnull().sum()/data.shape[0])*100\n",
    "    if(nulls_percentage > 40 ):\n",
    "        print(data[column].dtype,' ', nulls_percentage,'%',' ' ,column)\n",
    "        count=count +1\n",
    "print(count) "
   ]
  },
  {
   "cell_type": "markdown",
   "id": "c36cddc2",
   "metadata": {},
   "source": [
    "# Data PreProcessing"
   ]
  },
  {
   "cell_type": "markdown",
   "id": "3bb25552",
   "metadata": {},
   "source": [
    "## - Drop some features"
   ]
  },
  {
   "cell_type": "code",
   "execution_count": 14,
   "id": "5c5853ae",
   "metadata": {},
   "outputs": [],
   "source": [
    "# drop feature column which has null counts with percentage more than 40%\n",
    "dropped_nulls_features=[]\n",
    "for column in data:\n",
    "    nulls_percentage = (data[column].isnull().sum()/data.shape[0])*100\n",
    "    if(nulls_percentage > 40):\n",
    "        dropped_nulls_features.append(column) \n",
    "        \n",
    "new_data = data.drop(dropped_nulls_features, axis=1)"
   ]
  },
  {
   "cell_type": "code",
   "execution_count": 15,
   "id": "7fbe12f4",
   "metadata": {},
   "outputs": [],
   "source": [
    "# drop feature that are unique for each row \n",
    "dropped_unique_features=['LoanId','LoanNumber']\n",
    "new_data = new_data.drop(dropped_unique_features, axis=1)"
   ]
  },
  {
   "cell_type": "code",
   "execution_count": 16,
   "id": "6cdecfe7",
   "metadata": {},
   "outputs": [],
   "source": [
    "# drop feature that has only one value \n",
    "new_data = new_data.drop('ReportAsOfEOD', axis=1)"
   ]
  },
  {
   "cell_type": "code",
   "execution_count": 17,
   "id": "87b90741",
   "metadata": {},
   "outputs": [],
   "source": [
    "# drop features that won't affect related to borrower\n",
    "dropped_non_needed_features=['City','County','DateOfBirth','UserName']\n",
    "new_data = new_data.drop(dropped_non_needed_features, axis=1)"
   ]
  },
  {
   "cell_type": "code",
   "execution_count": 18,
   "id": "c321942e",
   "metadata": {},
   "outputs": [],
   "source": [
    "# drop separated income features as we have a feature for total income\n",
    "dropped_separated_income_features=['IncomeFromChildSupport','IncomeFromFamilyAllowance','IncomeFromLeavePay','IncomeFromPension','IncomeFromPrincipalEmployer','IncomeFromSocialWelfare','IncomeOther']\n",
    "new_data = new_data.drop(dropped_separated_income_features, axis=1)"
   ]
  },
  {
   "cell_type": "code",
   "execution_count": 19,
   "id": "08465fb7",
   "metadata": {},
   "outputs": [],
   "source": [
    "# drop features with date values\n",
    "dropped_date_features=['BiddingStartedOn','FirstPaymentDate','LastPaymentOn','ListedOnUTC','LoanApplicationStartedDate','LoanDate','MaturityDate_Last','MaturityDate_Original','StageActiveSince']\n",
    "new_data = new_data.drop(dropped_date_features, axis=1)"
   ]
  },
  {
   "cell_type": "code",
   "execution_count": 20,
   "id": "7f6ee795",
   "metadata": {},
   "outputs": [],
   "source": [
    "# drop features that won't affect\n",
    "dropped_non_needed_features=['ApplicationSignedHour','ApplicationSignedWeekday','MonthlyPaymentDay','ModelVersion']\n",
    "new_data = new_data.drop(dropped_non_needed_features, axis=1)"
   ]
  },
  {
   "cell_type": "code",
   "execution_count": 21,
   "id": "bd6a8c62",
   "metadata": {
    "scrolled": true
   },
   "outputs": [
    {
     "name": "stdout",
     "output_type": "stream",
     "text": [
      "<class 'pandas.core.frame.DataFrame'>\n",
      "RangeIndex: 134529 entries, 0 to 134528\n",
      "Data columns (total 49 columns):\n",
      " #   Column                                  Non-Null Count   Dtype  \n",
      "---  ------                                  --------------   -----  \n",
      " 0   ActiveScheduleFirstPaymentReached       134529 non-null  bool   \n",
      " 1   Age                                     134529 non-null  int64  \n",
      " 2   Amount                                  134529 non-null  float64\n",
      " 3   AmountOfPreviousLoansBeforeLoan         134529 non-null  float64\n",
      " 4   AppliedAmount                           134529 non-null  float64\n",
      " 5   BidsApi                                 134529 non-null  int64  \n",
      " 6   BidsManual                              134529 non-null  float64\n",
      " 7   BidsPortfolioManager                    134529 non-null  int64  \n",
      " 8   Country                                 134529 non-null  object \n",
      " 9   CreditScoreEsMicroL                     104955 non-null  object \n",
      " 10  DebtToIncome                            134484 non-null  float64\n",
      " 11  Education                               134484 non-null  float64\n",
      " 12  EmploymentDurationCurrentEmployer       133653 non-null  object \n",
      " 13  EmploymentStatus                        134332 non-null  float64\n",
      " 14  ExistingLiabilities                     134529 non-null  int64  \n",
      " 15  ExpectedLoss                            131893 non-null  float64\n",
      " 16  ExpectedReturn                          131893 non-null  float64\n",
      " 17  FreeCash                                134484 non-null  float64\n",
      " 18  Gender                                  134484 non-null  float64\n",
      " 19  HomeOwnershipType                       132877 non-null  float64\n",
      " 20  IncomeTotal                             134529 non-null  float64\n",
      " 21  Interest                                134529 non-null  float64\n",
      " 22  InterestAndPenaltyBalance               134529 non-null  float64\n",
      " 23  InterestAndPenaltyPaymentsMade          134529 non-null  float64\n",
      " 24  LanguageCode                            134529 non-null  int64  \n",
      " 25  LiabilitiesTotal                        134529 non-null  float64\n",
      " 26  LoanDuration                            134529 non-null  int64  \n",
      " 27  LossGivenDefault                        131893 non-null  float64\n",
      " 28  MaritalStatus                           134484 non-null  float64\n",
      " 29  MonthlyPayment                          127844 non-null  float64\n",
      " 30  NewCreditCustomer                       134529 non-null  bool   \n",
      " 31  NextPaymentNr                           97788 non-null   float64\n",
      " 32  NoOfPreviousLoansBeforeLoan             134529 non-null  int64  \n",
      " 33  NrOfScheduledPayments                   97788 non-null   float64\n",
      " 34  OccupationArea                          134443 non-null  float64\n",
      " 35  PlannedInterestTillDate                 130587 non-null  float64\n",
      " 36  PreviousEarlyRepaymentsCountBeforeLoan  134529 non-null  int64  \n",
      " 37  PreviousRepaymentsBeforeLoan            91368 non-null   float64\n",
      " 38  PrincipalBalance                        134529 non-null  float64\n",
      " 39  PrincipalOverdueBySchedule              119692 non-null  float64\n",
      " 40  PrincipalPaymentsMade                   134529 non-null  float64\n",
      " 41  ProbabilityOfDefault                    131893 non-null  float64\n",
      " 42  Rating                                  131799 non-null  object \n",
      " 43  RefinanceLiabilities                    134529 non-null  int64  \n",
      " 44  Restructured                            134529 non-null  bool   \n",
      " 45  Status                                  134529 non-null  object \n",
      " 46  UseOfLoan                               134529 non-null  int64  \n",
      " 47  VerificationType                        134484 non-null  float64\n",
      " 48  WorseLateCategory                       89073 non-null   object \n",
      "dtypes: bool(3), float64(30), int64(10), object(6)\n",
      "memory usage: 47.6+ MB\n",
      "None\n"
     ]
    }
   ],
   "source": [
    "print(new_data.info(verbose=True))"
   ]
  },
  {
   "cell_type": "markdown",
   "id": "3d7ac3f4",
   "metadata": {},
   "source": [
    "## - Handle target feature (Status)"
   ]
  },
  {
   "cell_type": "code",
   "execution_count": 22,
   "id": "fdc748e8",
   "metadata": {},
   "outputs": [],
   "source": [
    "# drop data entries with current loan status\n",
    "new_data['DefaultDate'] = data['DefaultDate']\n",
    "new_data = new_data[new_data.Status != 'Current']"
   ]
  },
  {
   "cell_type": "code",
   "execution_count": 23,
   "id": "4cbf0ec5",
   "metadata": {},
   "outputs": [
    {
     "name": "stdout",
     "output_type": "stream",
     "text": [
      "(77394, 50)\n"
     ]
    }
   ],
   "source": [
    "# show data dimensions after dropping\n",
    "print(new_data.shape)"
   ]
  },
  {
   "cell_type": "code",
   "execution_count": 24,
   "id": "dbd329b2",
   "metadata": {},
   "outputs": [
    {
     "name": "stdout",
     "output_type": "stream",
     "text": [
      "Number of null default date:  34600\n",
      "No default date\n",
      "Repaid    25939\n",
      "Late       8661\n",
      "Name: Status, dtype: int64\n",
      "With default date\n",
      "Late      37111\n",
      "Repaid     5683\n",
      "Name: Status, dtype: int64\n"
     ]
    }
   ],
   "source": [
    "# explore Status and DefaultDate\n",
    "print('Number of null default date: ',new_data['DefaultDate'].isnull().sum())\n",
    "\n",
    "print('No default date')\n",
    "null_date_rows = new_data[new_data['DefaultDate'].isnull()]\n",
    "null_date_status = null_date_rows['Status']\n",
    "print(null_date_status.value_counts()) \n",
    "\n",
    "print('With default date')\n",
    "null_date_rows = new_data[new_data['DefaultDate'].notnull()]\n",
    "null_date_status = null_date_rows['Status']\n",
    "print(null_date_status.value_counts())"
   ]
  },
  {
   "cell_type": "code",
   "execution_count": 25,
   "id": "50aa04ce",
   "metadata": {},
   "outputs": [],
   "source": [
    "# if no available default date, then the loan is not default\n",
    "new_data['Status'] = new_data['DefaultDate'].notnull().astype(int)"
   ]
  },
  {
   "cell_type": "code",
   "execution_count": 26,
   "id": "94ad2f73",
   "metadata": {},
   "outputs": [],
   "source": [
    "new_data = new_data.drop('DefaultDate', axis=1)"
   ]
  },
  {
   "cell_type": "code",
   "execution_count": 27,
   "id": "166e2ed1",
   "metadata": {},
   "outputs": [
    {
     "name": "stdout",
     "output_type": "stream",
     "text": [
      "int32\n",
      "0    0\n",
      "1    0\n",
      "2    1\n",
      "3    0\n",
      "4    1\n",
      "Name: Status, dtype: int32\n",
      "2\n",
      "[0 1]\n",
      "0\n"
     ]
    }
   ],
   "source": [
    "# show status info after converting\n",
    "print(new_data['Status'].dtypes)\n",
    "print(new_data['Status'].head())\n",
    "print(new_data['Status'].nunique())\n",
    "print(new_data['Status'].unique())\n",
    "print(new_data['Status'].isnull().sum())"
   ]
  },
  {
   "cell_type": "markdown",
   "id": "66c498cf",
   "metadata": {},
   "source": [
    "## - Numerical to Categorical"
   ]
  },
  {
   "cell_type": "code",
   "execution_count": 28,
   "id": "39393956",
   "metadata": {},
   "outputs": [
    {
     "name": "stdout",
     "output_type": "stream",
     "text": [
      "['3.0' '5.0' '4.0' '2.0' '1.0' '0.0' 'nan' '-1.0']\n",
      "['Vocational education' 'Higher education' 'Secondary education'\n",
      " 'Basic education' 'Primary education' 'Unknown' nan]\n",
      "['Vocational education' 'Higher education' 'Secondary education'\n",
      " 'Basic education' 'Primary education' 'Unknown']\n"
     ]
    }
   ],
   "source": [
    "# Education\n",
    "# 1 Primary education 2 Basic education 3 Vocational education 4 Secondary education 5 Higher education\n",
    "\n",
    "new_data['Education'] = new_data['Education'].astype(str)\n",
    "print(new_data['Education'].unique())\n",
    "\n",
    "mapping = {'-1.0':'Unknown','0.0':'Unknown','1.0':'Primary education','2.0':'Basic education','3.0':'Vocational education','4.0':'Secondary education','5.0':'Higher education','nan':np.nan}\n",
    "new_data['Education'] = new_data['Education'].replace(mapping)\n",
    "print(new_data['Education'].unique())\n",
    "\n",
    "new_data['Education'].fillna('Unknown',inplace=True)\n",
    "print(new_data['Education'].unique())"
   ]
  },
  {
   "cell_type": "code",
   "execution_count": 29,
   "id": "590eb0ee",
   "metadata": {},
   "outputs": [
    {
     "name": "stdout",
     "output_type": "stream",
     "text": [
      "['3.0' 'nan' '2.0' '4.0' '5.0' '6.0' '0.0' '-1.0']\n",
      "['Fully employed' nan 'Partially employed' 'Self-employed' 'Entrepreneur'\n",
      " 'Retiree' 'Unknown']\n",
      "['Fully employed' 'Unknown' 'Partially employed' 'Self-employed'\n",
      " 'Entrepreneur' 'Retiree']\n"
     ]
    }
   ],
   "source": [
    "# EmploymentStatus\n",
    "# 1 Unemployed 2 Partially employed 3 Fully employed 4 Self-employed 5 Entrepreneur 6 Retiree\n",
    "\n",
    "new_data['EmploymentStatus'] = new_data['EmploymentStatus'].astype(str)\n",
    "print(new_data['EmploymentStatus'].unique())\n",
    "\n",
    "mapping = {'-1.0':'Unknown','0.0':'Unknown','1.0':'Unemployed','2.0':'Partially employed','3.0':'Fully employed','4.0':'Self-employed','5.0':'Entrepreneur','6.0':'Retiree','nan':np.nan}\n",
    "new_data['EmploymentStatus'] = new_data['EmploymentStatus'].replace(mapping)\n",
    "print(new_data['EmploymentStatus'].unique())\n",
    "\n",
    "new_data['EmploymentStatus'].fillna('Unknown',inplace=True)\n",
    "print(new_data['EmploymentStatus'].unique())"
   ]
  },
  {
   "cell_type": "code",
   "execution_count": 30,
   "id": "11c99217",
   "metadata": {},
   "outputs": [
    {
     "name": "stdout",
     "output_type": "stream",
     "text": [
      "['1.0' '0.0' '2.0' 'nan']\n",
      "['Female' 'Male' 'Undefined' nan]\n",
      "['Female' 'Male' 'Undefined']\n"
     ]
    }
   ],
   "source": [
    "# Gender\n",
    "# 0 Male 1 Woman 2 Undefined\n",
    "new_data['Gender'] = new_data['Gender'].astype(str)\n",
    "print(new_data['Gender'].unique())\n",
    "\n",
    "mapping = {'0.0':'Male','1.0':'Female','2.0':'Undefined','nan':np.nan}\n",
    "new_data['Gender'] = new_data['Gender'].replace(mapping)\n",
    "print(new_data['Gender'].unique())\n",
    "\n",
    "new_data['Gender'].fillna('Undefined',inplace=True)\n",
    "print(new_data['Gender'].unique())"
   ]
  },
  {
   "cell_type": "code",
   "execution_count": 31,
   "id": "633279ef",
   "metadata": {},
   "outputs": [
    {
     "name": "stdout",
     "output_type": "stream",
     "text": [
      "['nan' '0.0' '4.0' '2.0' '3.0' '5.0' '1.0' '8.0' '7.0' '6.0' '9.0' '10.0'\n",
      " '-1.0']\n",
      "[nan 'Homeless' 'Tenant, unfurnished property' 'Living with parents'\n",
      " 'Tenant, pre-furnished property' 'Council house' 'Owner' 'Mortgage'\n",
      " 'Joint ownership' 'Joint tenant' 'Owner with encumbrance' 'Other'\n",
      " 'Unknown']\n",
      "['Unknown' 'Homeless' 'Tenant, unfurnished property' 'Living with parents'\n",
      " 'Tenant, pre-furnished property' 'Council house' 'Owner' 'Mortgage'\n",
      " 'Joint ownership' 'Joint tenant' 'Owner with encumbrance' 'Other']\n"
     ]
    }
   ],
   "source": [
    "# HomeOwnershipType\n",
    "# 0 Homeless 1 Owner 2 Living with parents 3 Tenant, pre-furnished property 4 Tenant, unfurnished property \n",
    "# 5 Council house 6 Joint tenant 7 Joint ownership 8 Mortgage 9 Owner with encumbrance 10 Other\n",
    "\n",
    "new_data['HomeOwnershipType'] = new_data['HomeOwnershipType'].astype(str)\n",
    "print(new_data['HomeOwnershipType'].unique())\n",
    "\n",
    "mapping = {'-1.0':'Unknown','0.0': 'Homeless', '1.0': 'Owner', '2.0': 'Living with parents', '3.0': 'Tenant, pre-furnished property',\n",
    "           '4.0': 'Tenant, unfurnished property', '5.0': 'Council house', '6.0': 'Joint tenant', '7.0': 'Joint ownership', \n",
    "           '8.0': 'Mortgage', '9.0': 'Owner with encumbrance', '10.0': 'Other','nan':np.nan}\n",
    "new_data['HomeOwnershipType'] = new_data['HomeOwnershipType'].replace(mapping)\n",
    "print(new_data['HomeOwnershipType'].unique())\n",
    "\n",
    "new_data['HomeOwnershipType'].fillna('Unknown',inplace=True)\n",
    "print(new_data['HomeOwnershipType'].unique())"
   ]
  },
  {
   "cell_type": "code",
   "execution_count": 32,
   "id": "2ef5751b",
   "metadata": {},
   "outputs": [
    {
     "name": "stdout",
     "output_type": "stream",
     "text": [
      "['1' '3' '2' '4' '6' '22' '15' '9' '5' '10' '13' '7' '21']\n",
      "['Estonian' 'Russian' 'English' 'Finnish' 'Spanish' 'Other' 'Slovakian'\n",
      " 'German']\n"
     ]
    }
   ],
   "source": [
    "# LanguageCode\n",
    "# 1 Estonian 2 English 3 Russian 4 Finnish 5 German 6 Spanish 9 Slovakian\n",
    "\n",
    "new_data['LanguageCode'] = new_data['LanguageCode'].astype(str)\n",
    "print(new_data['LanguageCode'].unique())\n",
    "\n",
    "mapping = {'1': 'Estonian', '2': 'English', '3': 'Russian','4': 'Finnish', '5': 'German', '6': 'Spanish', '9': 'Slovakian', \n",
    "           '7': 'Other', '22': 'Other', '15': 'Other', '10': 'Other', '13': 'Other', '21': 'Other'}\n",
    "new_data['LanguageCode'] = new_data['LanguageCode'].replace(mapping)\n",
    "print(new_data['LanguageCode'].unique())\n"
   ]
  },
  {
   "cell_type": "code",
   "execution_count": 33,
   "id": "8389230d",
   "metadata": {},
   "outputs": [
    {
     "name": "stdout",
     "output_type": "stream",
     "text": [
      "['1.0' '4.0' '3.0' '2.0' '5.0' '0.0' 'nan' '-1.0']\n",
      "['Married' 'Divorced' 'Single' 'Cohabitant' 'Widow' 'Unknown' nan]\n",
      "['Married' 'Divorced' 'Single' 'Cohabitant' 'Widow' 'Unknown']\n"
     ]
    }
   ],
   "source": [
    "# MaritalStatus\n",
    "# 1 Married 2 Cohabitant 3 Single 4 Divorced 5 Widow\n",
    "\n",
    "new_data['MaritalStatus'] = new_data['MaritalStatus'].astype(str)\n",
    "print(new_data['MaritalStatus'].unique())\n",
    "\n",
    "mapping = {'-1.0':'Unknown','0.0': 'Unknown', '1.0': 'Married', '2.0': 'Cohabitant', '3.0': 'Single',\n",
    "           '4.0': 'Divorced', '5.0': 'Widow','nan':np.nan}\n",
    "new_data['MaritalStatus'] = new_data['MaritalStatus'].replace(mapping)\n",
    "print(new_data['MaritalStatus'].unique())\n",
    "\n",
    "new_data['MaritalStatus'].fillna('Unknown',inplace=True)\n",
    "print(new_data['MaritalStatus'].unique())"
   ]
  },
  {
   "cell_type": "code",
   "execution_count": 34,
   "id": "4100935e",
   "metadata": {},
   "outputs": [
    {
     "name": "stdout",
     "output_type": "stream",
     "text": [
      "['7.0' '16.0' '9.0' '1.0' '10.0' '12.0' '8.0' '6.0' '11.0' '17.0' '5.0'\n",
      " '4.0' '3.0' '19.0' 'nan' '0.0' '18.0' '15.0' '13.0' '14.0' '2.0' '-1.0']\n",
      "['Retail and wholesale' 'Education' 'Hospitality and catering' 'Other'\n",
      " 'Info and telecom' 'Real-estate' 'Transport and warehousing'\n",
      " 'Construction' 'Finance and insurance' 'Healthcare and social help'\n",
      " 'Utilities' 'Energy' 'Processing' 'Agriculture, forestry and fishing' nan\n",
      " 'Unknown' 'Art and entertainment' 'Civil service & military' 'Research'\n",
      " 'Administrative' 'Mining']\n",
      "['Retail and wholesale' 'Education' 'Hospitality and catering' 'Other'\n",
      " 'Info and telecom' 'Real-estate' 'Transport and warehousing'\n",
      " 'Construction' 'Finance and insurance' 'Healthcare and social help'\n",
      " 'Utilities' 'Energy' 'Processing' 'Agriculture, forestry and fishing'\n",
      " 'Unknown' 'Art and entertainment' 'Civil service & military' 'Research'\n",
      " 'Administrative' 'Mining']\n"
     ]
    }
   ],
   "source": [
    "# OccupationArea\n",
    "# 1 Other 2 Mining 3 Processing 4 Energy 5 Utilities 6 Construction 7 Retail and wholesale\n",
    "# 8 Transport and warehousing 9 Hospitality and catering 10 Info and telecom 11 Finance and insurance \n",
    "# 12 Real-estate 13 Research 14 Administrative 15 Civil service & military 16 Education 17 Healthcare and social help \n",
    "# 18 Art and entertainment 19 Agriculture, forestry and fishing\n",
    "\n",
    "new_data['OccupationArea'] = new_data['OccupationArea'].astype(str)\n",
    "print(new_data['OccupationArea'].unique())\n",
    "\n",
    "mapping = {'-1.0':'Unknown','0.0': 'Unknown', '1.0': 'Other', '2.0': 'Mining', '3.0': 'Processing', '4.0': 'Energy', '5.0': 'Utilities', \n",
    "           '6.0': 'Construction', '7.0': 'Retail and wholesale', '8.0': 'Transport and warehousing', \n",
    "           '9.0': 'Hospitality and catering', '10.0': 'Info and telecom', '11.0': 'Finance and insurance', \n",
    "           '12.0': 'Real-estate', '13.0': 'Research', '14.0': 'Administrative', '15.0': 'Civil service & military', \n",
    "           '16.0': 'Education', '17.0': 'Healthcare and social help', '18.0': 'Art and entertainment', \n",
    "           '19.0': 'Agriculture, forestry and fishing','nan':np.nan}\n",
    "new_data['OccupationArea'] = new_data['OccupationArea'].replace(mapping)\n",
    "print(new_data['OccupationArea'].unique())\n",
    "\n",
    "new_data['OccupationArea'].fillna('Unknown',inplace=True)\n",
    "print(new_data['OccupationArea'].unique())"
   ]
  },
  {
   "cell_type": "code",
   "execution_count": 35,
   "id": "36a72810",
   "metadata": {},
   "outputs": [
    {
     "name": "stdout",
     "output_type": "stream",
     "text": [
      "['2.0' '4.0' '1.0' '3.0' '0.0' 'nan']\n",
      "['Income unverified, cross-referenced by phone'\n",
      " 'Income and expenses verified' 'Income unverified' 'Income verified'\n",
      " 'Not set' nan]\n",
      "['Income unverified, cross-referenced by phone'\n",
      " 'Income and expenses verified' 'Income unverified' 'Income verified'\n",
      " 'Not set']\n"
     ]
    }
   ],
   "source": [
    "# VerificationType\n",
    "# 0 Not set 1 Income unverified 2 Income unverified, cross-referenced by phone 3 Income verified 4 Income and expenses verified\n",
    "\n",
    "new_data['VerificationType'] = new_data['VerificationType'].astype(str)\n",
    "print(new_data['VerificationType'].unique())\n",
    "\n",
    "mapping = {'0.0': 'Not set', '1.0': 'Income unverified', '2.0': 'Income unverified, cross-referenced by phone', '3.0': 'Income verified', '4.0': 'Income and expenses verified','nan':np.nan}\n",
    "new_data['VerificationType'] = new_data['VerificationType'].replace(mapping)\n",
    "print(new_data['VerificationType'].unique())\n",
    "\n",
    "new_data['VerificationType'].fillna('Not set',inplace=True)\n",
    "print(new_data['VerificationType'].unique())"
   ]
  },
  {
   "cell_type": "code",
   "execution_count": 36,
   "id": "46c7e8df",
   "metadata": {},
   "outputs": [
    {
     "name": "stdout",
     "output_type": "stream",
     "text": [
      "['7' '2' '0' '6' '8' '3' '5' '4' '1' '110' '101' '102' '104' '108' '106'\n",
      " '107' '-1']\n",
      "['Other' 'Home improvement' 'Loan consolidation' 'Vehicle' 'Health'\n",
      " 'Business' 'Travel' 'Education' 'Real estate' 'Other business'\n",
      " 'Working capital financing' 'Purchase of machinery equipment'\n",
      " 'Accounts receivable financing' 'Acquisition of real estate'\n",
      " 'Construction finance' 'Acquisition of stocks' 'Unknown']\n"
     ]
    }
   ],
   "source": [
    "# UseOfLoan\n",
    "# 0 Loan consolidation 1 Real estate 2 Home improvement 3 Business 4 Education 5 Travel 6 Vehicle 7 Other \n",
    "# 8 Health 101 Working capital financing 102 Purchase of machinery equipment 103 Renovation of real estate\n",
    "# 104 Accounts receivable financing 105 Acquisition of means of transport 106 Construction finance 107 Acquisition of stocks \n",
    "# 108 Acquisition of real estate 109 Guaranteeing obligation 110 Other business\n",
    "\n",
    "new_data['UseOfLoan'] = new_data['UseOfLoan'].astype(str)\n",
    "print(new_data['UseOfLoan'].unique())\n",
    "\n",
    "mapping = {'-1':'Unknown','0': 'Loan consolidation', '1': 'Real estate', '2': 'Home improvement', '3': 'Business', \n",
    "           '4': 'Education', '5': 'Travel', '6': 'Vehicle', '7': 'Other', '8': 'Health', \n",
    "           '101': 'Working capital financing', '102': 'Purchase of machinery equipment', \n",
    "           '103': 'Renovation of real estate', '104': 'Accounts receivable financing', \n",
    "           '105': 'Acquisition of means of transport', '106': 'Construction finance', \n",
    "           '107': 'Acquisition of stocks', '108': 'Acquisition of real estate', \n",
    "           '109': 'Guaranteeing obligation', '110': 'Other business'}\n",
    "new_data['UseOfLoan'] = new_data['UseOfLoan'].replace(mapping)\n",
    "print(new_data['UseOfLoan'].unique())"
   ]
  },
  {
   "cell_type": "code",
   "execution_count": 37,
   "id": "6eaf85fc",
   "metadata": {},
   "outputs": [
    {
     "name": "stdout",
     "output_type": "stream",
     "text": [
      "['UpTo3Years' 'MoreThan5Years' 'UpTo4Years' 'UpTo2Years' 'UpTo1Year'\n",
      " 'Other' 'UpTo5Years' 'TrialPeriod' 'Retiree']\n"
     ]
    }
   ],
   "source": [
    "# EmploymentDurationCurrentEmployer\n",
    "\n",
    "new_data['EmploymentDurationCurrentEmployer'].fillna('Other',inplace=True)\n",
    "print(new_data['EmploymentDurationCurrentEmployer'].unique())"
   ]
  },
  {
   "cell_type": "markdown",
   "id": "cf76baa3",
   "metadata": {},
   "source": [
    "## - Get columns types"
   ]
  },
  {
   "cell_type": "code",
   "execution_count": 38,
   "id": "a422455e",
   "metadata": {},
   "outputs": [],
   "source": [
    "# get numerical features\n",
    "numerical_columns = []\n",
    "for column in new_data:\n",
    "    if(new_data[column].dtype == 'float64' or new_data[column].dtype == 'int64'):\n",
    "        numerical_columns.append(column)\n",
    "\n",
    "# get categorical features\n",
    "categorical_columns = []\n",
    "for column in new_data:\n",
    "    if(new_data[column].dtype == 'object'):\n",
    "        categorical_columns.append(column)  \n",
    "        \n",
    "# get boolean features\n",
    "boolean_columns = []\n",
    "for column in new_data:\n",
    "    if(new_data[column].dtype == 'bool'):\n",
    "        boolean_columns.append(column) "
   ]
  },
  {
   "cell_type": "markdown",
   "id": "45768a78",
   "metadata": {},
   "source": [
    "## - Boolean to integer"
   ]
  },
  {
   "cell_type": "code",
   "execution_count": 39,
   "id": "8b3b0059",
   "metadata": {},
   "outputs": [],
   "source": [
    "# boolean to int\n",
    "for bool_column in boolean_columns:\n",
    "    new_data[bool_column] = new_data[bool_column].astype(int)"
   ]
  },
  {
   "cell_type": "code",
   "execution_count": 40,
   "id": "0d3a3549",
   "metadata": {
    "scrolled": true
   },
   "outputs": [
    {
     "name": "stdout",
     "output_type": "stream",
     "text": [
      "<class 'pandas.core.frame.DataFrame'>\n",
      "Int64Index: 77394 entries, 0 to 134528\n",
      "Data columns (total 49 columns):\n",
      " #   Column                                  Non-Null Count  Dtype  \n",
      "---  ------                                  --------------  -----  \n",
      " 0   ActiveScheduleFirstPaymentReached       77394 non-null  int32  \n",
      " 1   Age                                     77394 non-null  int64  \n",
      " 2   Amount                                  77394 non-null  float64\n",
      " 3   AmountOfPreviousLoansBeforeLoan         77394 non-null  float64\n",
      " 4   AppliedAmount                           77394 non-null  float64\n",
      " 5   BidsApi                                 77394 non-null  int64  \n",
      " 6   BidsManual                              77394 non-null  float64\n",
      " 7   BidsPortfolioManager                    77394 non-null  int64  \n",
      " 8   Country                                 77394 non-null  object \n",
      " 9   CreditScoreEsMicroL                     51208 non-null  object \n",
      " 10  DebtToIncome                            77349 non-null  float64\n",
      " 11  Education                               77394 non-null  object \n",
      " 12  EmploymentDurationCurrentEmployer       77394 non-null  object \n",
      " 13  EmploymentStatus                        77394 non-null  object \n",
      " 14  ExistingLiabilities                     77394 non-null  int64  \n",
      " 15  ExpectedLoss                            74760 non-null  float64\n",
      " 16  ExpectedReturn                          74760 non-null  float64\n",
      " 17  FreeCash                                77349 non-null  float64\n",
      " 18  Gender                                  77394 non-null  object \n",
      " 19  HomeOwnershipType                       77394 non-null  object \n",
      " 20  IncomeTotal                             77394 non-null  float64\n",
      " 21  Interest                                77394 non-null  float64\n",
      " 22  InterestAndPenaltyBalance               77394 non-null  float64\n",
      " 23  InterestAndPenaltyPaymentsMade          77394 non-null  float64\n",
      " 24  LanguageCode                            77394 non-null  object \n",
      " 25  LiabilitiesTotal                        77394 non-null  float64\n",
      " 26  LoanDuration                            77394 non-null  int64  \n",
      " 27  LossGivenDefault                        74760 non-null  float64\n",
      " 28  MaritalStatus                           77394 non-null  object \n",
      " 29  MonthlyPayment                          70767 non-null  float64\n",
      " 30  NewCreditCustomer                       77394 non-null  int32  \n",
      " 31  NextPaymentNr                           40666 non-null  float64\n",
      " 32  NoOfPreviousLoansBeforeLoan             77394 non-null  int64  \n",
      " 33  NrOfScheduledPayments                   40666 non-null  float64\n",
      " 34  OccupationArea                          77394 non-null  object \n",
      " 35  PlannedInterestTillDate                 77394 non-null  float64\n",
      " 36  PreviousEarlyRepaymentsCountBeforeLoan  77394 non-null  int64  \n",
      " 37  PreviousRepaymentsBeforeLoan            58078 non-null  float64\n",
      " 38  PrincipalBalance                        77394 non-null  float64\n",
      " 39  PrincipalOverdueBySchedule              62557 non-null  float64\n",
      " 40  PrincipalPaymentsMade                   77394 non-null  float64\n",
      " 41  ProbabilityOfDefault                    74760 non-null  float64\n",
      " 42  Rating                                  74666 non-null  object \n",
      " 43  RefinanceLiabilities                    77394 non-null  int64  \n",
      " 44  Restructured                            77394 non-null  int32  \n",
      " 45  Status                                  77394 non-null  int32  \n",
      " 46  UseOfLoan                               77394 non-null  object \n",
      " 47  VerificationType                        77394 non-null  object \n",
      " 48  WorseLateCategory                       62106 non-null  object \n",
      "dtypes: float64(23), int32(4), int64(8), object(14)\n",
      "memory usage: 28.3+ MB\n",
      "None\n"
     ]
    }
   ],
   "source": [
    "print(new_data.info(verbose=True))"
   ]
  },
  {
   "cell_type": "markdown",
   "id": "7940831a",
   "metadata": {},
   "source": [
    "## - Handle outliers"
   ]
  },
  {
   "cell_type": "code",
   "execution_count": 41,
   "id": "2da4c9cd",
   "metadata": {},
   "outputs": [],
   "source": [
    "# handle outliers using IQR for numerical columns\n",
    "def outliers_handling(column):\n",
    "    Q1 = column.quantile(0.25)\n",
    "    Q3 = column.quantile(0.75)\n",
    "    lower_range = Q1 - 1.5 * (Q3 - Q1)\n",
    "    upper_range = Q3 + 1.5 * (Q3 - Q1)\n",
    "    column = np.where(column > upper_range, upper_range, column)\n",
    "    column = np.where(column < lower_range, lower_range, column)\n",
    "    return column\n",
    "\n",
    "for num_column in numerical_columns:\n",
    "    new_data[num_column] = outliers_handling(new_data[num_column])"
   ]
  },
  {
   "cell_type": "markdown",
   "id": "7868e003",
   "metadata": {},
   "source": [
    "## - Handle missing values"
   ]
  },
  {
   "cell_type": "code",
   "execution_count": 42,
   "id": "6b53fbf1",
   "metadata": {},
   "outputs": [],
   "source": [
    "# boolean \n",
    "for bol_column in boolean_columns:\n",
    "    if(new_data[bol_column].isnull().sum()):\n",
    "        print(bol_column) "
   ]
  },
  {
   "cell_type": "code",
   "execution_count": 43,
   "id": "75c0689e",
   "metadata": {},
   "outputs": [],
   "source": [
    "# categorical -> replace with mode\n",
    "for cat_column in categorical_columns:\n",
    "    mode_value = new_data[cat_column].mode().values[0]\n",
    "    new_data[cat_column].fillna(mode_value,inplace=True)"
   ]
  },
  {
   "cell_type": "code",
   "execution_count": 44,
   "id": "7c41e684",
   "metadata": {},
   "outputs": [],
   "source": [
    "# numerical-> replace with mean\n",
    "for num_column in numerical_columns:\n",
    "    mean_value = new_data[num_column].mean()\n",
    "    new_data[num_column].fillna(mean_value,inplace=True)"
   ]
  },
  {
   "cell_type": "code",
   "execution_count": 45,
   "id": "5073b319",
   "metadata": {
    "scrolled": true
   },
   "outputs": [
    {
     "name": "stdout",
     "output_type": "stream",
     "text": [
      "ActiveScheduleFirstPaymentReached         0\n",
      "Age                                       0\n",
      "Amount                                    0\n",
      "AmountOfPreviousLoansBeforeLoan           0\n",
      "AppliedAmount                             0\n",
      "BidsApi                                   0\n",
      "BidsManual                                0\n",
      "BidsPortfolioManager                      0\n",
      "Country                                   0\n",
      "CreditScoreEsMicroL                       0\n",
      "DebtToIncome                              0\n",
      "Education                                 0\n",
      "EmploymentDurationCurrentEmployer         0\n",
      "EmploymentStatus                          0\n",
      "ExistingLiabilities                       0\n",
      "ExpectedLoss                              0\n",
      "ExpectedReturn                            0\n",
      "FreeCash                                  0\n",
      "Gender                                    0\n",
      "HomeOwnershipType                         0\n",
      "IncomeTotal                               0\n",
      "Interest                                  0\n",
      "InterestAndPenaltyBalance                 0\n",
      "InterestAndPenaltyPaymentsMade            0\n",
      "LanguageCode                              0\n",
      "LiabilitiesTotal                          0\n",
      "LoanDuration                              0\n",
      "LossGivenDefault                          0\n",
      "MaritalStatus                             0\n",
      "MonthlyPayment                            0\n",
      "NewCreditCustomer                         0\n",
      "NextPaymentNr                             0\n",
      "NoOfPreviousLoansBeforeLoan               0\n",
      "NrOfScheduledPayments                     0\n",
      "OccupationArea                            0\n",
      "PlannedInterestTillDate                   0\n",
      "PreviousEarlyRepaymentsCountBeforeLoan    0\n",
      "PreviousRepaymentsBeforeLoan              0\n",
      "PrincipalBalance                          0\n",
      "PrincipalOverdueBySchedule                0\n",
      "PrincipalPaymentsMade                     0\n",
      "ProbabilityOfDefault                      0\n",
      "Rating                                    0\n",
      "RefinanceLiabilities                      0\n",
      "Restructured                              0\n",
      "Status                                    0\n",
      "UseOfLoan                                 0\n",
      "VerificationType                          0\n",
      "WorseLateCategory                         0\n",
      "dtype: int64\n"
     ]
    }
   ],
   "source": [
    "print(new_data.isnull().sum())"
   ]
  },
  {
   "cell_type": "markdown",
   "id": "1432ac4d",
   "metadata": {},
   "source": [
    "## - Handle duplicates"
   ]
  },
  {
   "cell_type": "code",
   "execution_count": 46,
   "id": "d9253b82",
   "metadata": {},
   "outputs": [
    {
     "name": "stdout",
     "output_type": "stream",
     "text": [
      "0\n"
     ]
    }
   ],
   "source": [
    "print(new_data.duplicated().sum())"
   ]
  },
  {
   "cell_type": "markdown",
   "id": "9d9848a2",
   "metadata": {},
   "source": [
    "# EDA (Exploratory Data Analysis)"
   ]
  },
  {
   "cell_type": "markdown",
   "id": "37d34a6a",
   "metadata": {},
   "source": [
    "## - Univariate Analysis"
   ]
  },
  {
   "cell_type": "code",
   "execution_count": 47,
   "id": "b0748271",
   "metadata": {
    "scrolled": true
   },
   "outputs": [
    {
     "name": "stdout",
     "output_type": "stream",
     "text": [
      "EE    51.549216\n",
      "FI    26.716541\n",
      "ES    21.354369\n",
      "SK     0.379874\n",
      "Name: Country, dtype: float64\n",
      "-------------------------\n",
      "M      84.506551\n",
      "M1      5.323410\n",
      "M5      3.071298\n",
      "M2      2.089309\n",
      "M3      1.997571\n",
      "M4      1.912293\n",
      "M6      0.718402\n",
      "M8      0.131793\n",
      "M9      0.090446\n",
      "M7      0.089154\n",
      "M10     0.069773\n",
      "Name: CreditScoreEsMicroL, dtype: float64\n",
      "-------------------------\n",
      "Secondary education     36.898209\n",
      "Higher education        27.029227\n",
      "Vocational education    22.297594\n",
      "Basic education          6.950151\n",
      "Primary education        6.752461\n",
      "Unknown                  0.072357\n",
      "Name: Education, dtype: float64\n",
      "-------------------------\n",
      "MoreThan5Years    37.894410\n",
      "UpTo1Year         18.461379\n",
      "UpTo5Years        17.801122\n",
      "UpTo2Years         7.159470\n",
      "UpTo3Years         5.864796\n",
      "Retiree            4.320748\n",
      "UpTo4Years         3.949919\n",
      "Other              3.748353\n",
      "TrialPeriod        0.799804\n",
      "Name: EmploymentDurationCurrentEmployer, dtype: float64\n",
      "-------------------------\n",
      "Unknown               57.376541\n",
      "Fully employed        35.285681\n",
      "Entrepreneur           2.190092\n",
      "Retiree                2.148745\n",
      "Self-employed          1.564721\n",
      "Partially employed     1.434220\n",
      "Name: EmploymentStatus, dtype: float64\n",
      "-------------------------\n",
      "Male         65.505078\n",
      "Female       27.039564\n",
      "Undefined     7.455358\n",
      "Name: Gender, dtype: float64\n",
      "-------------------------\n",
      "Owner                             31.777657\n",
      "Tenant, pre-furnished property    21.761377\n",
      "Living with parents               16.507740\n",
      "Mortgage                          11.321291\n",
      "Tenant, unfurnished property       5.208414\n",
      "Other                              4.107554\n",
      "Joint ownership                    3.489935\n",
      "Unknown                            2.137117\n",
      "Joint tenant                       1.759826\n",
      "Council house                      1.139623\n",
      "Owner with encumbrance             0.730031\n",
      "Homeless                           0.059436\n",
      "Name: HomeOwnershipType, dtype: float64\n",
      "-------------------------\n",
      "Estonian     42.947774\n",
      "Finnish      26.232008\n",
      "Spanish      21.199318\n",
      "Russian       8.442515\n",
      "English       0.779130\n",
      "Slovakian     0.378582\n",
      "Other         0.014213\n",
      "German        0.006460\n",
      "Name: LanguageCode, dtype: float64\n",
      "-------------------------\n",
      "Unknown       57.149133\n",
      "Single        14.864201\n",
      "Married       12.384681\n",
      "Cohabitant    10.955630\n",
      "Divorced       3.975760\n",
      "Widow          0.670595\n",
      "Name: MaritalStatus, dtype: float64\n",
      "-------------------------\n",
      "Unknown                              57.271882\n",
      "Other                                 9.871566\n",
      "Retail and wholesale                  4.143732\n",
      "Construction                          3.885314\n",
      "Processing                            3.716050\n",
      "Transport and warehousing             2.940796\n",
      "Healthcare and social help            2.824508\n",
      "Hospitality and catering              2.721141\n",
      "Info and telecom                      2.302504\n",
      "Civil service & military              2.009200\n",
      "Education                             1.616404\n",
      "Finance and insurance                 1.361863\n",
      "Agriculture, forestry and fishing     1.153836\n",
      "Administrative                        1.031088\n",
      "Energy                                0.684808\n",
      "Art and entertainment                 0.677055\n",
      "Research                              0.637000\n",
      "Real-estate                           0.559475\n",
      "Utilities                             0.441895\n",
      "Mining                                0.149882\n",
      "Name: OccupationArea, dtype: float64\n",
      "-------------------------\n",
      "F     23.755071\n",
      "HR    16.992273\n",
      "E     15.877200\n",
      "D     15.210481\n",
      "C     13.463576\n",
      "B      8.949014\n",
      "A      3.642401\n",
      "AA     2.109983\n",
      "Name: Rating, dtype: float64\n",
      "-------------------------\n",
      "Unknown                            57.080652\n",
      "Other                              11.533194\n",
      "Home improvement                   10.468512\n",
      "Loan consolidation                  8.293925\n",
      "Vehicle                             3.726387\n",
      "Business                            2.252113\n",
      "Travel                              2.094478\n",
      "Health                              1.766287\n",
      "Education                           1.626741\n",
      "Real estate                         1.089232\n",
      "Purchase of machinery equipment     0.027134\n",
      "Other business                      0.021966\n",
      "Accounts receivable financing       0.007753\n",
      "Working capital financing           0.006460\n",
      "Acquisition of stocks               0.002584\n",
      "Acquisition of real estate          0.001292\n",
      "Construction finance                0.001292\n",
      "Name: UseOfLoan, dtype: float64\n",
      "-------------------------\n",
      "Income and expenses verified                    53.528697\n",
      "Income unverified                               33.111094\n",
      "Income verified                                 10.931080\n",
      "Income unverified, cross-referenced by phone     2.360648\n",
      "Not set                                          0.068481\n",
      "Name: VerificationType, dtype: float64\n",
      "-------------------------\n",
      "180+       64.697522\n",
      "1-7         8.131121\n",
      "31-60       7.145257\n",
      "16-30       5.169651\n",
      "61-90       4.324625\n",
      "8-15        3.210843\n",
      "91-120      2.644908\n",
      "121-150     2.500194\n",
      "151-180     2.175879\n",
      "Name: WorseLateCategory, dtype: float64\n",
      "-------------------------\n"
     ]
    }
   ],
   "source": [
    "for cat_column in categorical_columns:\n",
    "#     print(new_data[cat_column].value_counts())\n",
    "    print((new_data[cat_column].value_counts()/new_data.shape[0])*100)\n",
    "    print('-------------------------')"
   ]
  },
  {
   "cell_type": "code",
   "execution_count": 48,
   "id": "888e43e2",
   "metadata": {
    "scrolled": true
   },
   "outputs": [
    {
     "data": {
      "image/png": "[encoded data removed]",
      "text/plain": [
       "<Figure size 432x288 with 1 Axes>"
      ]
     },
     "metadata": {
      "needs_background": "light"
     },
     "output_type": "display_data"
    },
    {
     "data": {
      "image/png": "[encoded data removed]",
      "text/plain": [
       "<Figure size 432x288 with 1 Axes>"
      ]
     },
     "metadata": {
      "needs_background": "light"
     },
     "output_type": "display_data"
    },
    {
     "data": {
      "image/png": "[encoded data removed]",
      "text/plain": [
       "<Figure size 432x288 with 1 Axes>"
      ]
     },
     "metadata": {
      "needs_background": "light"
     },
     "output_type": "display_data"
    },
    {
     "data": {
      "image/png": "[encoded data removed]",
      "text/plain": [
       "<Figure size 432x288 with 1 Axes>"
      ]
     },
     "metadata": {
      "needs_background": "light"
     },
     "output_type": "display_data"
    },
    {
     "data": {
      "image/png": "[encoded data removed]",
      "text/plain": [
       "<Figure size 432x288 with 1 Axes>"
      ]
     },
     "metadata": {
      "needs_background": "light"
     },
     "output_type": "display_data"
    },
    {
     "data": {
      "image/png": "[encoded data removed]",
      "text/plain": [
       "<Figure size 432x288 with 1 Axes>"
      ]
     },
     "metadata": {
      "needs_background": "light"
     },
     "output_type": "display_data"
    },
    {
     "data": {
      "image/png": "[encoded data removed]",
      "text/plain": [
       "<Figure size 432x288 with 1 Axes>"
      ]
     },
     "metadata": {
      "needs_background": "light"
     },
     "output_type": "display_data"
    },
    {
     "data": {
      "image/png": "[encoded data removed]",
      "text/plain": [
       "<Figure size 432x288 with 1 Axes>"
      ]
     },
     "metadata": {
      "needs_background": "light"
     },
     "output_type": "display_data"
    },
    {
     "data": {
      "image/png": "[encoded data removed]",
      "text/plain": [
       "<Figure size 432x288 with 1 Axes>"
      ]
     },
     "metadata": {
      "needs_background": "light"
     },
     "output_type": "display_data"
    },
    {
     "data": {
      "image/png": "[encoded data removed]",
      "text/plain": [
       "<Figure size 432x288 with 1 Axes>"
      ]
     },
     "metadata": {
      "needs_background": "light"
     },
     "output_type": "display_data"
    },
    {
     "data": {
      "image/png": "[encoded data removed]",
      "text/plain": [
       "<Figure size 432x288 with 1 Axes>"
      ]
     },
     "metadata": {
      "needs_background": "light"
     },
     "output_type": "display_data"
    },
    {
     "data": {
      "image/png": "[encoded data removed]",
      "text/plain": [
       "<Figure size 432x288 with 1 Axes>"
      ]
     },
     "metadata": {
      "needs_background": "light"
     },
     "output_type": "display_data"
    },
    {
     "data": {
      "image/png": "[encoded data removed]",
      "text/plain": [
       "<Figure size 432x288 with 1 Axes>"
      ]
     },
     "metadata": {
      "needs_background": "light"
     },
     "output_type": "display_data"
    },
    {
     "data": {
      "image/png": "[encoded data removed]",
      "text/plain": [
       "<Figure size 432x288 with 1 Axes>"
      ]
     },
     "metadata": {
      "needs_background": "light"
     },
     "output_type": "display_data"
    }
   ],
   "source": [
    "# bar charts for categorical features\n",
    "for cat_column in categorical_columns:\n",
    "    fig = plt.figure(figsize=(6, 4))\n",
    "    plt.bar(new_data[cat_column].value_counts().index,new_data[cat_column].value_counts())\n",
    "    plt.title(cat_column)\n",
    "    plt.xticks(rotation=90)\n",
    "    plt.show()"
   ]
  },
  {
   "cell_type": "code",
   "execution_count": 49,
   "id": "3ac20018",
   "metadata": {},
   "outputs": [],
   "source": [
    "# -> almost one value is the dominant\n",
    "# CreditScoreEsMicroL 84%,WorseLateCategory 64% \n",
    "# ,OccupationArea 57%,UseOfLoan 57%\n",
    "dropped_features=['CreditScoreEsMicroL','WorseLateCategory']\n",
    "new_data = new_data.drop(dropped_features, axis=1)"
   ]
  },
  {
   "cell_type": "code",
   "execution_count": null,
   "id": "19f8cdfb",
   "metadata": {
    "scrolled": true
   },
   "outputs": [],
   "source": [
    "# pie charts for boolean features\n",
    "for bol_column in boolean_columns:\n",
    "    plt.pie(new_data[bol_column].value_counts(),labels = new_data[bol_column].value_counts().index,autopct='%0.3f%%')\n",
    "    plt.title(bol_column)\n",
    "    plt.show()"
   ]
  },
  {
   "cell_type": "code",
   "execution_count": null,
   "id": "8b01493b",
   "metadata": {},
   "outputs": [],
   "source": [
    "# ActiveScheduleFirstPaymentReached -> almost one value is the dominant\n",
    "dropped_features=['ActiveScheduleFirstPaymentReached']\n",
    "new_data = new_data.drop(dropped_features, axis=1)"
   ]
  },
  {
   "cell_type": "code",
   "execution_count": null,
   "id": "f2f0d0df",
   "metadata": {},
   "outputs": [],
   "source": [
    "# pie charts for target feature\n",
    "plt.pie(new_data['Status'].value_counts(),labels = new_data['Status'].value_counts().index,autopct='%0.3f%%')\n",
    "plt.title('Status')\n",
    "plt.show()"
   ]
  },
  {
   "cell_type": "code",
   "execution_count": null,
   "id": "9d98ed2e",
   "metadata": {
    "scrolled": true
   },
   "outputs": [],
   "source": [
    "# histograms for numerical features\n",
    "for num_column in numerical_columns:\n",
    "    fig = plt.figure(figsize=(6, 4))\n",
    "    n = plt.hist(new_data[num_column])\n",
    "    plt.title(num_column)\n",
    "    \n",
    "    print(num_column)\n",
    "    print(n[0])\n",
    "    print('----------------------------------------------------------')"
   ]
  },
  {
   "cell_type": "code",
   "execution_count": null,
   "id": "4d4d465f",
   "metadata": {},
   "outputs": [],
   "source": [
    "# -> most of the data in one range\n",
    "# NextPaymentNr 77k, PreviousEarlyRepaymentsCountBeforeLoan 77k, RefinanceLiabilities 77k \n",
    "# AmountOfPreviousLoansBeforeLoan 47k, BidsApi 52k, DebtToIncome 48k,  FreeCash 49k,\n",
    "dropped_features=['NextPaymentNr','PreviousEarlyRepaymentsCountBeforeLoan','RefinanceLiabilities']\n",
    "new_data = new_data.drop(dropped_features, axis=1)"
   ]
  },
  {
   "cell_type": "markdown",
   "id": "d174d54c",
   "metadata": {},
   "source": [
    "## - Bivariate Analysis"
   ]
  },
  {
   "cell_type": "code",
   "execution_count": null,
   "id": "508983de",
   "metadata": {},
   "outputs": [],
   "source": [
    "sns.set(rc = {'figure.figsize':(30,10)})\n",
    "corr = new_data.corr()\n",
    "sns.heatmap(corr, annot=True,cmap= 'coolwarm')"
   ]
  },
  {
   "cell_type": "code",
   "execution_count": null,
   "id": "a52afdc4",
   "metadata": {},
   "outputs": [],
   "source": [
    "# get correlated features that have correlation value more than a specific threshold\n",
    "def get_correlated_features(threshold): \n",
    "    mat=[]\n",
    "    for i in range(corr.shape[0]):\n",
    "        \n",
    "        correltated_features = [] \n",
    "        correltated_features.append(corr.columns[i])\n",
    "        \n",
    "        for j in range(i):\n",
    "            if (abs(corr.iloc[i, j]) >= threshold and abs(corr.iloc[i, j]) < 1):\n",
    "                correltated_features.append(corr.columns[j])\n",
    "                \n",
    "        if(len(correltated_features) > 1):\n",
    "            mat.append(correltated_features)\n",
    "    return mat\n",
    "\n",
    "print(get_correlated_features(0.8))"
   ]
  },
  {
   "cell_type": "code",
   "execution_count": null,
   "id": "ce7d5ac2",
   "metadata": {},
   "outputs": [],
   "source": [
    "# leave one feature from each correlated features lists \n",
    "dropped_features=['Amount','ExpectedLoss','AmountOfPreviousLoansBeforeLoan','NewCreditCustomer']\n",
    "new_data = new_data.drop(dropped_features, axis=1)"
   ]
  },
  {
   "cell_type": "code",
   "execution_count": null,
   "id": "4db353f3",
   "metadata": {
    "scrolled": true
   },
   "outputs": [],
   "source": [
    "for num_column in numerical_columns:\n",
    "    \n",
    "    if num_column in new_data.columns:\n",
    "        fig=plt.figure(figsize=(6, 4))\n",
    "        plt.hist(new_data[new_data['Status']==1][num_column],alpha=0.5, color=\"blue\", label=\"Default\")\n",
    "        plt.hist(new_data[new_data['Status']==0][num_column],alpha=0.5, color=\"green\", label=\"Not-Default\")\n",
    "        plt.title(num_column)\n"
   ]
  },
  {
   "cell_type": "code",
   "execution_count": null,
   "id": "e2121d09",
   "metadata": {
    "scrolled": false
   },
   "outputs": [],
   "source": [
    "print(new_data.info(verbose=True))"
   ]
  },
  {
   "cell_type": "markdown",
   "id": "28d739f1",
   "metadata": {},
   "source": [
    "# Encoding Categorical Variables"
   ]
  },
  {
   "cell_type": "code",
   "execution_count": null,
   "id": "38d318e5",
   "metadata": {},
   "outputs": [],
   "source": [
    "encoder = LabelEncoder()\n",
    "\n",
    "for cat_column in categorical_columns:\n",
    "    if cat_column in new_data.columns:\n",
    "        new_data[cat_column] = encoder.fit_transform(new_data[cat_column])"
   ]
  },
  {
   "cell_type": "markdown",
   "id": "a271516c",
   "metadata": {},
   "source": [
    "# Scaling"
   ]
  },
  {
   "cell_type": "code",
   "execution_count": null,
   "id": "59d71776",
   "metadata": {},
   "outputs": [],
   "source": [
    "y_target = new_data['Status']\n",
    "x_data = new_data.drop('Status', axis=1)"
   ]
  },
  {
   "cell_type": "code",
   "execution_count": null,
   "id": "f8c28784",
   "metadata": {},
   "outputs": [],
   "source": [
    "scaler = StandardScaler()\n",
    "# x_data = scaler.fit_transform(x_data)\n",
    "x_data_scaled = pd.DataFrame(scaler.fit_transform(x_data), columns = x_data.columns)"
   ]
  },
  {
   "cell_type": "code",
   "execution_count": null,
   "id": "f209f006",
   "metadata": {},
   "outputs": [],
   "source": [
    "preprocessed_data = pd.concat([y_target, x_data_scaled], axis=1)"
   ]
  },
  {
   "cell_type": "markdown",
   "id": "f5d3ae5d",
   "metadata": {},
   "source": [
    "# Save pre-processed data"
   ]
  },
  {
   "cell_type": "code",
   "execution_count": null,
   "id": "72929255",
   "metadata": {},
   "outputs": [],
   "source": [
    "preprocessed_data.to_csv('preprocessed_data.csv', index=False)"
   ]
  },
  {
   "cell_type": "markdown",
   "id": "03a2291e",
   "metadata": {},
   "source": [
    "# PCA (Principal Component Analysis)"
   ]
  },
  {
   "cell_type": "code",
   "execution_count": null,
   "id": "e5db834f",
   "metadata": {},
   "outputs": [],
   "source": [
    "print(x_data_scaled.shape)"
   ]
  },
  {
   "cell_type": "code",
   "execution_count": null,
   "id": "8e93438f",
   "metadata": {},
   "outputs": [],
   "source": [
    "pca = PCA(n_components = 10)\n",
    "x_data_scaled_pca =  pca.fit_transform(x_data_scaled)"
   ]
  },
  {
   "cell_type": "code",
   "execution_count": null,
   "id": "bf1572f9",
   "metadata": {},
   "outputs": [],
   "source": [
    "print(x_data_scaled_pca.shape)"
   ]
  },
  {
   "cell_type": "code",
   "execution_count": null,
   "id": "5cc213a8",
   "metadata": {},
   "outputs": [],
   "source": [
    " "
   ]
  }
 ],
 "metadata": {
  "kernelspec": {
   "display_name": "Python 3 (ipykernel)",
   "language": "python",
   "name": "python3"
  },
  "language_info": {
   "codemirror_mode": {
    "name": "ipython",
    "version": 3
   },
   "file_extension": ".py",
   "mimetype": "text/x-python",
   "name": "python",
   "nbconvert_exporter": "python",
   "pygments_lexer": "ipython3",
   "version": "3.9.12"
  }
 },
 "nbformat": 4,
 "nbformat_minor": 5
}
