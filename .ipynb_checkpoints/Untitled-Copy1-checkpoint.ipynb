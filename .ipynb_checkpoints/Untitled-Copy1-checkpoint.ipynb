{
 "cells": [
  {
   "cell_type": "code",
   "execution_count": null,
   "id": "60fdd92c",
   "metadata": {},
   "outputs": [],
   "source": [
    "data = pd.read_csv('../dataset/Bondora_raw.csv', low_memory=False)"
   ]
  },
  {
   "cell_type": "code",
   "execution_count": null,
   "id": "7db902b6",
   "metadata": {},
   "outputs": [],
   "source": [
    "def drop_nulls_columns(data):\n",
    "    dropped_nulls_features=[]\n",
    "    for column in data:\n",
    "        nulls_percentage = (data[column].isnull().sum()/data.shape[0])*100\n",
    "        if(nulls_percentage > 40):\n",
    "            dropped_nulls_features.append(column) \n",
    "\n",
    "    data = data.drop(dropped_nulls_features, axis=1)"
   ]
  },
  {
   "cell_type": "code",
   "execution_count": null,
   "id": "81bee149",
   "metadata": {},
   "outputs": [],
   "source": [
    "def drop_unnecessary_columns(data):\n",
    "    dropped_features=['LoanId','LoanNumber','ReportAsOfEOD','City','County','DateOfBirth','UserName','IncomeFromChildSupport','IncomeFromFamilyAllowance','IncomeFromLeavePay','IncomeFromPension','IncomeFromPrincipalEmployer','IncomeFromSocialWelfare','IncomeOther','BiddingStartedOn','FirstPaymentDate','LastPaymentOn','ListedOnUTC','LoanApplicationStartedDate','LoanDate','MaturityDate_Last','MaturityDate_Original','StageActiveSince','ApplicationSignedHour','ApplicationSignedWeekday','MonthlyPaymentDay','ModelVersion']\n",
    "    data = data.drop(dropped_features, axis=1)"
   ]
  },
  {
   "cell_type": "code",
   "execution_count": null,
   "id": "25f51c51",
   "metadata": {},
   "outputs": [],
   "source": [
    "def handle_status_column(data):\n",
    "    data = data[data.Status != 'Current']\n",
    "    data['Status'] = data['DefaultDate'].notnull().astype(int)\n",
    "    data = data.drop('DefaultDate', axis=1)"
   ]
  },
  {
   "cell_type": "code",
   "execution_count": null,
   "id": "ab9a6efc",
   "metadata": {},
   "outputs": [],
   "source": [
    "def convert_categorical_column(data):\n",
    "\n",
    "    data['Education'] = data['Education'].astype(str)\n",
    "    mapping = {'-1.0':'Unknown','0.0':'Unknown','1.0':'Primary education','2.0':'Basic education','3.0':'Vocational education','4.0':'Secondary education','5.0':'Higher education','nan':np.nan}\n",
    "    data['Education'] = data['Education'].replace(mapping)\n",
    "    data['Education'].fillna('Unknown',inplace=True)\n",
    "\n",
    "    data['EmploymentStatus'] = data['EmploymentStatus'].astype(str)\n",
    "    mapping = {'-1.0':'Unknown','0.0':'Unknown','1.0':'Unemployed','2.0':'Partially employed','3.0':'Fully employed','4.0':'Self-employed','5.0':'Entrepreneur','6.0':'Retiree','nan':np.nan}\n",
    "    data['EmploymentStatus'] = data['EmploymentStatus'].replace(mapping)\n",
    "    data['EmploymentStatus'].fillna('Unknown',inplace=True)\n",
    "\n",
    "    data['Gender'] = data['Gender'].astype(str)\n",
    "    mapping = {'0.0':'Male','1.0':'Female','2.0':'Undefined','nan':np.nan}\n",
    "    data['Gender'] = data['Gender'].replace(mapping)\n",
    "    data['Gender'].fillna('Undefined',inplace=True)\n",
    "\n",
    "    data['HomeOwnershipType'] = data['HomeOwnershipType'].astype(str)\n",
    "    mapping = {'-1.0':'Unknown','0.0': 'Homeless', '1.0': 'Owner', '2.0': 'Living with parents', '3.0': 'Tenant, pre-furnished property',\n",
    "               '4.0': 'Tenant, unfurnished property', '5.0': 'Council house', '6.0': 'Joint tenant', '7.0': 'Joint ownership', \n",
    "               '8.0': 'Mortgage', '9.0': 'Owner with encumbrance', '10.0': 'Other','nan':np.nan}\n",
    "    data['HomeOwnershipType'] = data['HomeOwnershipType'].replace(mapping)\n",
    "    data['HomeOwnershipType'].fillna('Unknown',inplace=True)\n",
    "\n",
    "    data['LanguageCode'] = data['LanguageCode'].astype(str)\n",
    "    mapping = {'1': 'Estonian', '2': 'English', '3': 'Russian','4': 'Finnish', '5': 'German', '6': 'Spanish', '9': 'Slovakian', \n",
    "               '7': 'Other', '22': 'Other', '15': 'Other', '10': 'Other', '13': 'Other', '21': 'Other'}\n",
    "    data['LanguageCode'] = data['LanguageCode'].replace(mapping)\n",
    "\n",
    "    data['MaritalStatus'] = data['MaritalStatus'].astype(str)\n",
    "    mapping = {'-1.0':'Unknown','0.0': 'Unknown', '1.0': 'Married', '2.0': 'Cohabitant', '3.0': 'Single',\n",
    "               '4.0': 'Divorced', '5.0': 'Widow','nan':np.nan}\n",
    "    data['MaritalStatus'] = data['MaritalStatus'].replace(mapping)\n",
    "    data['MaritalStatus'].fillna('Unknown',inplace=True)\n",
    "\n",
    "    data['OccupationArea'] = data['OccupationArea'].astype(str)\n",
    "    mapping = {'-1.0':'Unknown','0.0': 'Unknown', '1.0': 'Other', '2.0': 'Mining', '3.0': 'Processing', '4.0': 'Energy', '5.0': 'Utilities', \n",
    "               '6.0': 'Construction', '7.0': 'Retail and wholesale', '8.0': 'Transport and warehousing', \n",
    "               '9.0': 'Hospitality and catering', '10.0': 'Info and telecom', '11.0': 'Finance and insurance', \n",
    "               '12.0': 'Real-estate', '13.0': 'Research', '14.0': 'Administrative', '15.0': 'Civil service & military', \n",
    "               '16.0': 'Education', '17.0': 'Healthcare and social help', '18.0': 'Art and entertainment', \n",
    "               '19.0': 'Agriculture, forestry and fishing','nan':np.nan}\n",
    "    data['OccupationArea'] = data['OccupationArea'].replace(mapping)\n",
    "    data['OccupationArea'].fillna('Unknown',inplace=True)\n",
    "\n",
    "    data['VerificationType'] = data['VerificationType'].astype(str)\n",
    "    mapping = {'0.0': 'Not set', '1.0': 'Income unverified', '2.0': 'Income unverified, cross-referenced by phone', '3.0': 'Income verified', '4.0': 'Income and expenses verified','nan':np.nan}\n",
    "    data['VerificationType'] = data['VerificationType'].replace(mapping)\n",
    "    data['VerificationType'].fillna('Not set',inplace=True)\n",
    "\n",
    "    data['UseOfLoan'] = data['UseOfLoan'].astype(str)\n",
    "    mapping = {'-1':'Unknown','0': 'Loan consolidation', '1': 'Real estate', '2': 'Home improvement', '3': 'Business', \n",
    "               '4': 'Education', '5': 'Travel', '6': 'Vehicle', '7': 'Other', '8': 'Health', \n",
    "               '101': 'Working capital financing', '102': 'Purchase of machinery equipment', \n",
    "               '103': 'Renovation of real estate', '104': 'Accounts receivable financing', \n",
    "               '105': 'Acquisition of means of transport', '106': 'Construction finance', \n",
    "               '107': 'Acquisition of stocks', '108': 'Acquisition of real estate', \n",
    "               '109': 'Guaranteeing obligation', '110': 'Other business'}\n",
    "    data['UseOfLoan'] = data['UseOfLoan'].replace(mapping)\n",
    "\n",
    "    data['EmploymentDurationCurrentEmployer'].fillna('Other',inplace=True)"
   ]
  },
  {
   "cell_type": "code",
   "execution_count": null,
   "id": "a9eaf68b",
   "metadata": {},
   "outputs": [],
   "source": [
    "# get numerical features\n",
    "numerical_columns = []\n",
    "for column in new_data:\n",
    "    if(new_data[column].dtype == 'float64' or new_data[column].dtype == 'int64'):\n",
    "        numerical_columns.append(column)\n",
    "\n",
    "# get categorical features\n",
    "categorical_columns = []\n",
    "for column in new_data:\n",
    "    if(new_data[column].dtype == 'object'):\n",
    "        categorical_columns.append(column)  \n",
    "        \n",
    "# get boolean features\n",
    "boolean_columns = []\n",
    "for column in new_data:\n",
    "    if(new_data[column].dtype == 'bool'):\n",
    "        boolean_columns.append(column) "
   ]
  },
  {
   "cell_type": "code",
   "execution_count": null,
   "id": "da8244fc",
   "metadata": {},
   "outputs": [],
   "source": [
    "for bool_column in boolean_columns:\n",
    "    new_data[bool_column] = new_data[bool_column].astype(int)"
   ]
  },
  {
   "cell_type": "code",
   "execution_count": null,
   "id": "eb3ae42e",
   "metadata": {},
   "outputs": [],
   "source": [
    "# handle outliers using IQR for numerical columns\n",
    "def outliers_handling(column):\n",
    "    Q1 = column.quantile(0.25)\n",
    "    Q3 = column.quantile(0.75)\n",
    "    lower_range = Q1 - 1.5 * (Q3 - Q1)\n",
    "    upper_range = Q3 + 1.5 * (Q3 - Q1)\n",
    "    column = np.where(column > upper_range, upper_range, column)\n",
    "    column = np.where(column < lower_range, lower_range, column)\n",
    "    return column\n",
    "\n",
    "for num_column in numerical_columns:\n",
    "    new_data[num_column] = outliers_handling(new_data[num_column])"
   ]
  },
  {
   "cell_type": "code",
   "execution_count": null,
   "id": "e8c0b172",
   "metadata": {},
   "outputs": [],
   "source": []
  }
 ],
 "metadata": {
  "kernelspec": {
   "display_name": "Python 3 (ipykernel)",
   "language": "python",
   "name": "python3"
  },
  "language_info": {
   "codemirror_mode": {
    "name": "ipython",
    "version": 3
   },
   "file_extension": ".py",
   "mimetype": "text/x-python",
   "name": "python",
   "nbconvert_exporter": "python",
   "pygments_lexer": "ipython3",
   "version": "3.9.12"
  }
 },
 "nbformat": 4,
 "nbformat_minor": 5
}
