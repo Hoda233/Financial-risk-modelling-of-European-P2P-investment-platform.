{
 "cells": [
  {
   "cell_type": "markdown",
   "id": "f782ffb0",
   "metadata": {},
   "source": [
    "# Loading Packages and Data"
   ]
  },
  {
   "cell_type": "code",
   "execution_count": 1,
   "id": "3fdd7b62",
   "metadata": {},
   "outputs": [],
   "source": [
    "import numpy as np\n",
    "import pandas as pd\n",
    "import matplotlib.pyplot as plt"
   ]
  },
  {
   "cell_type": "code",
   "execution_count": 2,
   "id": "1ffe1928",
   "metadata": {},
   "outputs": [],
   "source": [
    "# to show the whole output results\n",
    "pd.set_option('display.max_rows', None)\n",
    "pd.set_option('display.max_columns', None)"
   ]
  },
  {
   "cell_type": "code",
   "execution_count": 3,
   "id": "dcd42a5e",
   "metadata": {},
   "outputs": [],
   "source": [
    "# load data\n",
    "data = pd.read_csv('../dataset/Bondora_raw.csv', low_memory=False)"
   ]
  },
  {
   "cell_type": "code",
   "execution_count": 4,
   "id": "f71e0cc8",
   "metadata": {},
   "outputs": [],
   "source": [
    "# sort data features/columns alphabitcally (just to ease exploration)\n",
    "data = data.sort_index(axis=1)"
   ]
  },
  {
   "cell_type": "markdown",
   "id": "dd63f574",
   "metadata": {},
   "source": [
    "# Data Exploration"
   ]
  },
  {
   "cell_type": "code",
   "execution_count": 5,
   "id": "7c7f4e02",
   "metadata": {},
   "outputs": [
    {
     "name": "stdout",
     "output_type": "stream",
     "text": [
      "(134529, 112)\n"
     ]
    }
   ],
   "source": [
    "# show data dimensions\n",
    "print(data.shape)"
   ]
  },
  {
   "cell_type": "code",
   "execution_count": null,
   "id": "6935bccd",
   "metadata": {
    "scrolled": true
   },
   "outputs": [],
   "source": [
    "# show data info (columns' names, data types,...)\n",
    "print(data.info(verbose=True))"
   ]
  },
  {
   "cell_type": "code",
   "execution_count": null,
   "id": "5024a8b5",
   "metadata": {},
   "outputs": [],
   "source": [
    "# show first 5 rows of data\n",
    "print(data.head())"
   ]
  },
  {
   "cell_type": "code",
   "execution_count": null,
   "id": "30ec02fc",
   "metadata": {},
   "outputs": [],
   "source": [
    "# show data description (count, mean, std, min, max,...) for numerical features\n",
    "print(data.describe())"
   ]
  },
  {
   "cell_type": "code",
   "execution_count": null,
   "id": "7f2be7e2",
   "metadata": {
    "scrolled": true
   },
   "outputs": [],
   "source": [
    "# show data unique values counts\n",
    "print(data.nunique())"
   ]
  },
  {
   "cell_type": "code",
   "execution_count": 16,
   "id": "57c5caf8",
   "metadata": {
    "scrolled": true
   },
   "outputs": [
    {
     "name": "stdout",
     "output_type": "stream",
     "text": [
      "9   ActiveLateCategory\n",
      "[nan '180+' '16-30' '1-7' '31-60' '8-15' '121-150' '91-120' '151-180'\n",
      " '61-90']\n",
      "9   ActiveLateLastPaymentCategory\n",
      "[nan '180+' '151-180' '31-60' '8-15' '1-7' '91-120' '16-30' '121-150'\n",
      " '61-90']\n",
      "2   ActiveScheduleFirstPaymentReached\n",
      "[ True False]\n",
      "24   ApplicationSignedHour\n",
      "[17 20 12 10 16  9 18 22 11 15  0 13 23 19 14  8 21  7  1  2  6  3  5  4]\n",
      "7   ApplicationSignedWeekday\n",
      "[5 4 6 7 1 3 2]\n",
      "4   Country\n",
      "['EE' 'FI' 'ES' 'SK']\n",
      "7   CreditScoreEeMini\n",
      "[  nan 1000.  700.  800.  600.  900.  500.    0.]\n",
      "6   CreditScoreEsEquifaxRisk\n",
      "[nan 'A' 'AA' 'B' 'C' 'AAA' 'D']\n",
      "11   CreditScoreEsMicroL\n",
      "[nan 'M3' 'M5' 'M1' 'M9' 'M2' 'M6' 'M4' 'M8' 'M7' 'M10' 'M']\n",
      "14   CreditScoreFiAsiakasTietoRiskGrade\n",
      "[nan 'RL2' 'RL1' 'RL4' 'RL3' 'RL0' 'RL5' '2' '1' '3' '4' '5' '6' '7' '8']\n",
      "7   Education\n",
      "[ 3.  5.  4.  2.  1.  0. nan -1.]\n",
      "9   EmploymentDurationCurrentEmployer\n",
      "['UpTo3Years' 'MoreThan5Years' 'UpTo4Years' 'UpTo2Years' 'UpTo1Year' nan\n",
      " 'UpTo5Years' 'TrialPeriod' 'Other' 'Retiree']\n",
      "7   EmploymentStatus\n",
      "[ 3. nan  2.  4.  5.  6.  0. -1.]\n",
      "39   ExistingLiabilities\n",
      "[ 0  6  4  1  8  3  2  5  7  9 10 12 11 15 14 17 13 16 18 24 19 26 23 20\n",
      " 21 22 25 27 36 30 28 35 29 31 32 33 34 39 40]\n",
      "3   Gender\n",
      "[ 1.  0.  2. nan]\n",
      "12   HomeOwnershipType\n",
      "[nan  0.  4.  2.  1.  3.  5.  8.  6.  7.  9. 10. -1.]\n",
      "13   LanguageCode\n",
      "[ 1  3  2  4  6 22 15  9  5 10 13  7 21]\n",
      "31   LoanDuration\n",
      "[12  1 20 15 24  6  2  5  3 10 18  4 17  9 13  7 14  8 22 16 11 19 60 21\n",
      " 36 48 30 42 27 52 38]\n",
      "7   MaritalStatus\n",
      "[ 1.  4.  3.  2.  5.  0. nan -1.]\n",
      "7   ModelVersion\n",
      "[nan  0.  1.  2.  3.  4.  5.  6.]\n",
      "29   MonthlyPaymentDay\n",
      "[25 15  9  3  1 10 28 24 20 23 11 18 12  5 26 22 16  2  7 13  6 21 14 19\n",
      "  8 27 17  4  0]\n",
      "2   NewCreditCustomer\n",
      "[ True False]\n",
      "26   NextPaymentDate\n",
      "[nan '2020-02-17' '2020-02-10' '2020-02-25' '2020-02-03' '2020-02-11'\n",
      " '2020-01-28' '2020-02-05' '2020-02-27' '2020-02-21' '2020-02-20'\n",
      " '2020-02-07' '2020-02-12' '2020-03-02' '2020-02-14' '2020-02-19'\n",
      " '2020-02-13' '2020-02-04' '2020-02-26' '2020-02-18' '2020-02-06'\n",
      " '2020-02-24' '2020-03-09' '2020-03-11' '2020-03-06' '2020-03-10'\n",
      " '2020-03-05']\n",
      "26   NoOfPreviousLoansBeforeLoan\n",
      "[ 1  2  0  3  4  5  9  8  7  6 11 10 13 20 12 14 15 16 17 18 19 21 22 23\n",
      " 24 25]\n",
      "11   NrOfDependants\n",
      "['0' '1' '3' '2' '5' '4' nan '6' '10Plus' '7' '10' '8']\n",
      "21   OccupationArea\n",
      "[ 7. 16.  9.  1. 10. 12.  8.  6. 11. 17.  5.  4.  3. 19. nan  0. 18. 15.\n",
      " 13. 14.  2. -1.]\n",
      "11   PreviousEarlyRepaymentsCountBeforeLoan\n",
      "[ 0  1  2  3  7  4  5  6  8  9 11]\n",
      "8   Rating\n",
      "[nan 'F' 'C' 'HR' 'D' 'E' 'B' 'A' 'AA']\n",
      "8   Rating_V0\n",
      "[nan 'HR' 'A' 'F' 'C' 'D' 'B' 'AA' 'E']\n",
      "8   Rating_V1\n",
      "[nan 'F' 'C' 'HR' 'D' 'E' 'B' 'A' 'AA']\n",
      "8   Rating_V2\n",
      "[nan 'D' 'B' 'HR' 'F' 'C' 'E' 'A' 'AA']\n",
      "2   RecoveryStage\n",
      "[nan  2.  1.]\n",
      "21   RefinanceLiabilities\n",
      "[ 0  2  1  3  5  4  6  7  8  9 10 11 12 13 14 17 19 16 15 18 23]\n",
      "1   ReportAsOfEOD\n",
      "['2020-01-27']\n",
      "2   Restructured\n",
      "[False  True]\n",
      "3   Status\n",
      "['Repaid' 'Late' 'Current']\n",
      "17   UseOfLoan\n",
      "[  7   2   0   6   8   3   5   4   1 110 101 102 104 108 106 107  -1]\n",
      "5   VerificationType\n",
      "[ 2.  4.  1.  3.  0. nan]\n",
      "6   WorkExperience\n",
      "['MoreThan25Years' '2To5Years' '5To10Years' '15To25Years' '10To15Years'\n",
      " 'LessThan2Years' nan]\n",
      "9   WorseLateCategory\n",
      "['91-120' nan '180+' '31-60' '151-180' '61-90' '1-7' '121-150' '16-30'\n",
      " '8-15']\n"
     ]
    }
   ],
   "source": [
    "# show data unique values if they are less than 50 values\n",
    "for column in data:\n",
    "    unique_count = data[column].nunique()\n",
    "    if(unique_count <= 50):\n",
    "        print(unique_count, ' ', column)\n",
    "        print(data[column].unique())"
   ]
  },
  {
   "cell_type": "code",
   "execution_count": 42,
   "id": "fc959d2b",
   "metadata": {
    "scrolled": true
   },
   "outputs": [
    {
     "name": "stdout",
     "output_type": "stream",
     "text": [
      "ActiveLateCategory                         86011\n",
      "ActiveLateLastPaymentCategory              82279\n",
      "ActiveScheduleFirstPaymentReached              0\n",
      "Age                                            0\n",
      "Amount                                         0\n",
      "AmountOfPreviousLoansBeforeLoan                0\n",
      "ApplicationSignedHour                          0\n",
      "ApplicationSignedWeekday                       0\n",
      "AppliedAmount                                  0\n",
      "BiddingStartedOn                               0\n",
      "BidsApi                                        0\n",
      "BidsManual                                     0\n",
      "BidsPortfolioManager                           0\n",
      "City                                        9794\n",
      "ContractEndDate                            75546\n",
      "Country                                        0\n",
      "County                                     36840\n",
      "CreditScoreEeMini                          62807\n",
      "CreditScoreEsEquifaxRisk                  122310\n",
      "CreditScoreEsMicroL                        29574\n",
      "CreditScoreFiAsiakasTietoRiskGrade        102011\n",
      "CurrentDebtDaysPrimary                     86011\n",
      "CurrentDebtDaysSecondary                   82279\n",
      "DateOfBirth                                    0\n",
      "DebtOccuredOn                              86011\n",
      "DebtOccuredOnForSecondary                  82279\n",
      "DebtToIncome                                  45\n",
      "DefaultDate                                91614\n",
      "EAD1                                       91614\n",
      "EAD2                                       91614\n",
      "EL_V0                                     129960\n",
      "EL_V1                                     121607\n",
      "Education                                     45\n",
      "EmploymentDurationCurrentEmployer            876\n",
      "EmploymentPosition                         98439\n",
      "EmploymentStatus                             197\n",
      "ExistingLiabilities                            0\n",
      "ExpectedLoss                                2636\n",
      "ExpectedReturn                              2636\n",
      "FirstPaymentDate                               0\n",
      "FreeCash                                      45\n",
      "Gender                                        45\n",
      "GracePeriodEnd                            115741\n",
      "GracePeriodStart                          115741\n",
      "HomeOwnershipType                           1652\n",
      "IncomeFromChildSupport                         0\n",
      "IncomeFromFamilyAllowance                      0\n",
      "IncomeFromLeavePay                             0\n",
      "IncomeFromPension                              0\n",
      "IncomeFromPrincipalEmployer                    0\n",
      "IncomeFromSocialWelfare                        0\n",
      "IncomeOther                                    0\n",
      "IncomeTotal                                    0\n",
      "Interest                                       0\n",
      "InterestAndPenaltyBalance                      0\n",
      "InterestAndPenaltyDebtServicingCost        75400\n",
      "InterestAndPenaltyPaymentsMade                 0\n",
      "InterestAndPenaltyWriteOffs                75400\n",
      "InterestRecovery                           91614\n",
      "LanguageCode                                   0\n",
      "LastPaymentOn                               9531\n",
      "LiabilitiesTotal                               0\n",
      "ListedOnUTC                                    0\n",
      "LoanApplicationStartedDate                     0\n",
      "LoanDate                                       0\n",
      "LoanDuration                                   0\n",
      "LoanId                                         0\n",
      "LoanNumber                                     0\n",
      "LossGivenDefault                            2636\n",
      "MaritalStatus                                 45\n",
      "MaturityDate_Last                              0\n",
      "MaturityDate_Original                          0\n",
      "ModelVersion                                2636\n",
      "MonthlyPayment                              6685\n",
      "MonthlyPaymentDay                              0\n",
      "NewCreditCustomer                              0\n",
      "NextPaymentDate                            68885\n",
      "NextPaymentNr                              36741\n",
      "NoOfPreviousLoansBeforeLoan                    0\n",
      "NrOfDependants                             98929\n",
      "NrOfScheduledPayments                      36741\n",
      "OccupationArea                                86\n",
      "PlannedInterestPostDefault                 91614\n",
      "PlannedInterestTillDate                     3942\n",
      "PlannedPrincipalPostDefault                91614\n",
      "PlannedPrincipalTillDate                   80070\n",
      "PreviousEarlyRepaymentsBefoleLoan          76503\n",
      "PreviousEarlyRepaymentsCountBeforeLoan         0\n",
      "PreviousRepaymentsBeforeLoan               43161\n",
      "PrincipalBalance                               0\n",
      "PrincipalDebtServicingCost                 75400\n",
      "PrincipalOverdueBySchedule                 14837\n",
      "PrincipalPaymentsMade                          0\n",
      "PrincipalRecovery                          91614\n",
      "PrincipalWriteOffs                         75400\n",
      "ProbabilityOfDefault                        2636\n",
      "Rating                                      2730\n",
      "Rating_V0                                 129960\n",
      "Rating_V1                                 121607\n",
      "Rating_V2                                 109386\n",
      "ReScheduledOn                              94207\n",
      "RecoveryStage                              57288\n",
      "RefinanceLiabilities                           0\n",
      "ReportAsOfEOD                                  0\n",
      "Restructured                                   0\n",
      "StageActiveSince                           53575\n",
      "Status                                         0\n",
      "UseOfLoan                                      0\n",
      "UserName                                       0\n",
      "VerificationType                              45\n",
      "WorkExperience                             98007\n",
      "WorseLateCategory                          45456\n",
      "dtype: int64\n"
     ]
    }
   ],
   "source": [
    "# show data null counts\n",
    "print(data.isnull().sum())"
   ]
  },
  {
   "cell_type": "code",
   "execution_count": null,
   "id": "37fceea5",
   "metadata": {},
   "outputs": [],
   "source": [
    "# show data null percentages\n",
    "print((data.isnull().sum()/data.shape[0])*100)"
   ]
  },
  {
   "cell_type": "code",
   "execution_count": null,
   "id": "fc44b3ea",
   "metadata": {
    "scrolled": false
   },
   "outputs": [],
   "source": [
    "# show data null counts with percentage more than 50%\n",
    "count=0 \n",
    "for column in data:\n",
    "    nulls_percentage = (data[column].isnull().sum()/data.shape[0])*100\n",
    "    if(nulls_percentage > 40 ):\n",
    "        print(data[column].dtype,' ', nulls_percentage,'%',' ' ,column)\n",
    "        count=count +1\n",
    "print(count) "
   ]
  },
  {
   "cell_type": "markdown",
   "id": "f4b18165",
   "metadata": {},
   "source": [
    "# Data PreProcessing"
   ]
  },
  {
   "cell_type": "markdown",
   "id": "204f3df2",
   "metadata": {},
   "source": [
    "## - Drop some features"
   ]
  },
  {
   "cell_type": "code",
   "execution_count": 6,
   "id": "5c5853ae",
   "metadata": {},
   "outputs": [],
   "source": [
    "# drop feature column which has null counts with percentage more than 50%\n",
    "dropped_nulls_features=[]\n",
    "for column in data:\n",
    "    nulls_percentage = (data[column].isnull().sum()/data.shape[0])*100\n",
    "    if(nulls_percentage > 40):\n",
    "        dropped_nulls_features.append(column) \n",
    "        \n",
    "new_data = data.drop(dropped_nulls_features, axis=1)"
   ]
  },
  {
   "cell_type": "code",
   "execution_count": 7,
   "id": "7fbe12f4",
   "metadata": {},
   "outputs": [],
   "source": [
    "# drop feature that are unique for each row \n",
    "dropped_unique_features=['LoanId','LoanNumber']\n",
    "new_data = new_data.drop(dropped_unique_features, axis=1)"
   ]
  },
  {
   "cell_type": "code",
   "execution_count": 8,
   "id": "6cdecfe7",
   "metadata": {},
   "outputs": [],
   "source": [
    "# drop feature that has only one value \n",
    "new_data = new_data.drop('ReportAsOfEOD', axis=1)"
   ]
  },
  {
   "cell_type": "code",
   "execution_count": 9,
   "id": "bd0e4973",
   "metadata": {},
   "outputs": [],
   "source": [
    "# drop features that won't affect related to borrower\n",
    "dropped_non_needed_features=['City','County','DateOfBirth','UserName']\n",
    "new_data = new_data.drop(dropped_non_needed_features, axis=1)"
   ]
  },
  {
   "cell_type": "code",
   "execution_count": 10,
   "id": "0fff1c01",
   "metadata": {},
   "outputs": [],
   "source": [
    "# drop separated income features as we have a feature for total income\n",
    "dropped_separated_income_features=['IncomeFromChildSupport','IncomeFromFamilyAllowance','IncomeFromLeavePay','IncomeFromPension','IncomeFromPrincipalEmployer','IncomeFromSocialWelfare','IncomeOther']\n",
    "new_data = new_data.drop(dropped_separated_income_features, axis=1)"
   ]
  },
  {
   "cell_type": "code",
   "execution_count": 11,
   "id": "44360e24",
   "metadata": {},
   "outputs": [],
   "source": [
    "# drop features with date values\n",
    "dropped_date_features=['BiddingStartedOn','FirstPaymentDate','LastPaymentOn','ListedOnUTC','LoanApplicationStartedDate','LoanDate','MaturityDate_Last','MaturityDate_Original','StageActiveSince']\n",
    "new_data = new_data.drop(dropped_date_features, axis=1)"
   ]
  },
  {
   "cell_type": "code",
   "execution_count": 12,
   "id": "b9e0af9d",
   "metadata": {},
   "outputs": [],
   "source": [
    "# drop features that won't affect\n",
    "dropped_non_needed_features=['ApplicationSignedHour','ApplicationSignedWeekday','MonthlyPaymentDay','ModelVersion']\n",
    "new_data = new_data.drop(dropped_non_needed_features, axis=1)"
   ]
  },
  {
   "cell_type": "code",
   "execution_count": 13,
   "id": "1cf2e181",
   "metadata": {
    "scrolled": true
   },
   "outputs": [
    {
     "name": "stdout",
     "output_type": "stream",
     "text": [
      "<class 'pandas.core.frame.DataFrame'>\n",
      "RangeIndex: 134529 entries, 0 to 134528\n",
      "Data columns (total 52 columns):\n",
      " #   Column                                  Non-Null Count   Dtype  \n",
      "---  ------                                  --------------   -----  \n",
      " 0   ActiveScheduleFirstPaymentReached       134529 non-null  bool   \n",
      " 1   Age                                     134529 non-null  int64  \n",
      " 2   Amount                                  134529 non-null  float64\n",
      " 3   AmountOfPreviousLoansBeforeLoan         134529 non-null  float64\n",
      " 4   AppliedAmount                           134529 non-null  float64\n",
      " 5   BidsApi                                 134529 non-null  int64  \n",
      " 6   BidsManual                              134529 non-null  float64\n",
      " 7   BidsPortfolioManager                    134529 non-null  int64  \n",
      " 8   Country                                 134529 non-null  object \n",
      " 9   CreditScoreEeMini                       71722 non-null   float64\n",
      " 10  CreditScoreEsMicroL                     104955 non-null  object \n",
      " 11  DebtToIncome                            134484 non-null  float64\n",
      " 12  Education                               134484 non-null  float64\n",
      " 13  EmploymentDurationCurrentEmployer       133653 non-null  object \n",
      " 14  EmploymentStatus                        134332 non-null  float64\n",
      " 15  ExistingLiabilities                     134529 non-null  int64  \n",
      " 16  ExpectedLoss                            131893 non-null  float64\n",
      " 17  ExpectedReturn                          131893 non-null  float64\n",
      " 18  FreeCash                                134484 non-null  float64\n",
      " 19  Gender                                  134484 non-null  float64\n",
      " 20  HomeOwnershipType                       132877 non-null  float64\n",
      " 21  IncomeTotal                             134529 non-null  float64\n",
      " 22  Interest                                134529 non-null  float64\n",
      " 23  InterestAndPenaltyBalance               134529 non-null  float64\n",
      " 24  InterestAndPenaltyPaymentsMade          134529 non-null  float64\n",
      " 25  LanguageCode                            134529 non-null  int64  \n",
      " 26  LiabilitiesTotal                        134529 non-null  float64\n",
      " 27  LoanDuration                            134529 non-null  int64  \n",
      " 28  LossGivenDefault                        131893 non-null  float64\n",
      " 29  MaritalStatus                           134484 non-null  float64\n",
      " 30  ModelVersion                            131893 non-null  float64\n",
      " 31  MonthlyPayment                          127844 non-null  float64\n",
      " 32  NewCreditCustomer                       134529 non-null  bool   \n",
      " 33  NextPaymentNr                           97788 non-null   float64\n",
      " 34  NoOfPreviousLoansBeforeLoan             134529 non-null  int64  \n",
      " 35  NrOfScheduledPayments                   97788 non-null   float64\n",
      " 36  OccupationArea                          134443 non-null  float64\n",
      " 37  PlannedInterestTillDate                 130587 non-null  float64\n",
      " 38  PreviousEarlyRepaymentsCountBeforeLoan  134529 non-null  int64  \n",
      " 39  PreviousRepaymentsBeforeLoan            91368 non-null   float64\n",
      " 40  PrincipalBalance                        134529 non-null  float64\n",
      " 41  PrincipalOverdueBySchedule              119692 non-null  float64\n",
      " 42  PrincipalPaymentsMade                   134529 non-null  float64\n",
      " 43  ProbabilityOfDefault                    131893 non-null  float64\n",
      " 44  Rating                                  131799 non-null  object \n",
      " 45  RecoveryStage                           77241 non-null   float64\n",
      " 46  RefinanceLiabilities                    134529 non-null  int64  \n",
      " 47  Restructured                            134529 non-null  bool   \n",
      " 48  Status                                  134529 non-null  object \n",
      " 49  UseOfLoan                               134529 non-null  int64  \n",
      " 50  VerificationType                        134484 non-null  float64\n",
      " 51  WorseLateCategory                       89073 non-null   object \n",
      "dtypes: bool(3), float64(33), int64(10), object(6)\n",
      "memory usage: 50.7+ MB\n",
      "None\n"
     ]
    }
   ],
   "source": [
    "print(new_data.info(verbose=True))"
   ]
  },
  {
   "cell_type": "markdown",
   "id": "2d44982a",
   "metadata": {},
   "source": [
    "## - Numerical to Categorical"
   ]
  },
  {
   "cell_type": "code",
   "execution_count": 14,
   "id": "52384cb1",
   "metadata": {},
   "outputs": [
    {
     "name": "stdout",
     "output_type": "stream",
     "text": [
      "['3.0' '5.0' '4.0' '2.0' '1.0' '0.0' 'nan' '-1.0']\n",
      "['Vocational education' 'Higher education' 'Secondary education'\n",
      " 'Basic education' 'Primary education' 'Unknown' nan]\n",
      "['Vocational education' 'Higher education' 'Secondary education'\n",
      " 'Basic education' 'Primary education' 'Unknown']\n"
     ]
    }
   ],
   "source": [
    "# Education\n",
    "# 1 Primary education 2 Basic education 3 Vocational education 4 Secondary education 5 Higher education\n",
    "\n",
    "new_data['Education'] = new_data['Education'].astype(str)\n",
    "print(new_data['Education'].unique())\n",
    "\n",
    "mapping = {'-1.0':'Unknown','0.0':'Unknown','1.0':'Primary education','2.0':'Basic education','3.0':'Vocational education','4.0':'Secondary education','5.0':'Higher education','nan':np.nan}\n",
    "new_data['Education'] = new_data['Education'].replace(mapping)\n",
    "print(new_data['Education'].unique())\n",
    "\n",
    "new_data['Education'].fillna('Unknown',inplace=True)\n",
    "print(new_data['Education'].unique())"
   ]
  },
  {
   "cell_type": "code",
   "execution_count": 15,
   "id": "85f35118",
   "metadata": {},
   "outputs": [
    {
     "name": "stdout",
     "output_type": "stream",
     "text": [
      "['3.0' 'nan' '2.0' '4.0' '5.0' '6.0' '0.0' '-1.0']\n",
      "['Fully employed' nan 'Partially employed' 'Self-employed' 'Entrepreneur'\n",
      " 'Retiree' 'Unknown']\n",
      "['Fully employed' 'Unknown' 'Partially employed' 'Self-employed'\n",
      " 'Entrepreneur' 'Retiree']\n"
     ]
    }
   ],
   "source": [
    "# EmploymentStatus\n",
    "# 1 Unemployed 2 Partially employed 3 Fully employed 4 Self-employed 5 Entrepreneur 6 Retiree\n",
    "\n",
    "new_data['EmploymentStatus'] = new_data['EmploymentStatus'].astype(str)\n",
    "print(new_data['EmploymentStatus'].unique())\n",
    "\n",
    "mapping = {'-1.0':'Unknown','0.0':'Unknown','1.0':'Unemployed','2.0':'Partially employed','3.0':'Fully employed','4.0':'Self-employed','5.0':'Entrepreneur','6.0':'Retiree','nan':np.nan}\n",
    "new_data['EmploymentStatus'] = new_data['EmploymentStatus'].replace(mapping)\n",
    "print(new_data['EmploymentStatus'].unique())\n",
    "\n",
    "new_data['EmploymentStatus'].fillna('Unknown',inplace=True)\n",
    "print(new_data['EmploymentStatus'].unique())"
   ]
  },
  {
   "cell_type": "code",
   "execution_count": 19,
   "id": "498fef06",
   "metadata": {},
   "outputs": [
    {
     "name": "stdout",
     "output_type": "stream",
     "text": [
      "['Woman' 'Male' 'Undefined' 'Gender']\n",
      "['Woman' 'Male' 'Undefined' 'Gender']\n",
      "['Woman' 'Male' 'Undefined' 'Gender']\n"
     ]
    }
   ],
   "source": [
    "# Gender\n",
    "# 0 Male 1 Woman 2 Undefined\n",
    "new_data['Gender'] = new_data['Gender'].astype(str)\n",
    "print(new_data['Gender'].unique())\n",
    "\n",
    "mapping = {'0.0':'Male','1.0':'Woman','2.0':'Undefined','nan':np.nan}\n",
    "new_data['Gender'] = new_data['Gender'].replace(mapping)\n",
    "print(new_data['Gender'].unique())\n",
    "\n",
    "new_data['Gender'].fillna('Undefined',inplace=True)\n",
    "print(new_data['Gender'].unique())"
   ]
  },
  {
   "cell_type": "code",
   "execution_count": 23,
   "id": "aac4b320",
   "metadata": {},
   "outputs": [
    {
     "name": "stdout",
     "output_type": "stream",
     "text": [
      "['Other' 'Homeless' 'Tenant, unfurnished property' 'Living with parents'\n",
      " 'Owner' 'Tenant, pre-furnished property' 'Council house' 'Mortgage'\n",
      " 'Joint tenant' 'Joint ownership' 'Owner with encumbrance']\n",
      "['Other' 'Homeless' 'Tenant, unfurnished property' 'Living with parents'\n",
      " 'Owner' 'Tenant, pre-furnished property' 'Council house' 'Mortgage'\n",
      " 'Joint tenant' 'Joint ownership' 'Owner with encumbrance']\n",
      "['Other' 'Homeless' 'Tenant, unfurnished property' 'Living with parents'\n",
      " 'Owner' 'Tenant, pre-furnished property' 'Council house' 'Mortgage'\n",
      " 'Joint tenant' 'Joint ownership' 'Owner with encumbrance']\n"
     ]
    }
   ],
   "source": [
    "# HomeOwnershipType\n",
    "# 0 Homeless 1 Owner 2 Living with parents 3 Tenant, pre-furnished property 4 Tenant, unfurnished property \n",
    "# 5 Council house 6 Joint tenant 7 Joint ownership 8 Mortgage 9 Owner with encumbrance 10 Other\n",
    "\n",
    "new_data['HomeOwnershipType'] = new_data['HomeOwnershipType'].astype(str)\n",
    "print(new_data['HomeOwnershipType'].unique())\n",
    "\n",
    "mapping = {'-1.0':'Unknown','0.0': 'Homeless', '1.0': 'Owner', '2.0': 'Living with parents', '3.0': 'Tenant, pre-furnished property',\n",
    "           '4.0': 'Tenant, unfurnished property', '5.0': 'Council house', '6.0': 'Joint tenant', '7.0': 'Joint ownership', \n",
    "           '8.0': 'Mortgage', '9.0': 'Owner with encumbrance', '10.0': 'Other','nan':np.nan}\n",
    "new_data['HomeOwnershipType'] = new_data['HomeOwnershipType'].replace(mapping)\n",
    "print(new_data['HomeOwnershipType'].unique())\n",
    "\n",
    "new_data['HomeOwnershipType'].fillna('Unknown',inplace=True)\n",
    "print(new_data['HomeOwnershipType'].unique())"
   ]
  },
  {
   "cell_type": "code",
   "execution_count": 26,
   "id": "d4e6e375",
   "metadata": {},
   "outputs": [
    {
     "name": "stdout",
     "output_type": "stream",
     "text": [
      "['1' '3' '2' '4' '6' '22' '15' '9' '5' '10' '13' '7' '21']\n",
      "['Estonian' 'Russian' 'English' 'Finnish' 'Spanish' 'Other' 'Slovakian'\n",
      " 'German']\n"
     ]
    }
   ],
   "source": [
    "# LanguageCode\n",
    "# 1 Estonian 2 English 3 Russian 4 Finnish 5 German 6 Spanish 9 Slovakian\n",
    "\n",
    "new_data['LanguageCode'] = new_data['LanguageCode'].astype(str)\n",
    "print(new_data['LanguageCode'].unique())\n",
    "\n",
    "mapping = {'1': 'Estonian', '2': 'English', '3': 'Russian','4': 'Finnish', '5': 'German', '6': 'Spanish', '9': 'Slovakian', \n",
    "           '7': 'Other', '22': 'Other', '15': 'Other', '10': 'Other', '13': 'Other', '21': 'Other'}\n",
    "new_data['LanguageCode'] = new_data['LanguageCode'].replace(mapping)\n",
    "print(new_data['LanguageCode'].unique())\n"
   ]
  },
  {
   "cell_type": "code",
   "execution_count": 30,
   "id": "8ed6d6e5",
   "metadata": {},
   "outputs": [
    {
     "name": "stdout",
     "output_type": "stream",
     "text": [
      "['Married' 'Divorced' 'Single' 'Cohabitant' 'Widow' 'Unknown' 'nan']\n",
      "['Married' 'Divorced' 'Single' 'Cohabitant' 'Widow' 'Unknown' nan]\n",
      "['Married' 'Divorced' 'Single' 'Cohabitant' 'Widow' 'Unknown']\n"
     ]
    }
   ],
   "source": [
    "# MaritalStatus\n",
    "# 1 Married 2 Cohabitant 3 Single 4 Divorced 5 Widow\n",
    "\n",
    "new_data['MaritalStatus'] = new_data['MaritalStatus'].astype(str)\n",
    "print(new_data['MaritalStatus'].unique())\n",
    "\n",
    "mapping = {'-1.0':'Unknown','0.0': 'Unknown', '1.0': 'Married', '2.0': 'Cohabitant', '3.0': 'Single',\n",
    "           '4.0': 'Divorced', '5.0': 'Widow','nan':np.nan}\n",
    "new_data['MaritalStatus'] = new_data['MaritalStatus'].replace(mapping)\n",
    "print(new_data['MaritalStatus'].unique())\n",
    "\n",
    "new_data['MaritalStatus'].fillna('Unknown',inplace=True)\n",
    "print(new_data['MaritalStatus'].unique())"
   ]
  },
  {
   "cell_type": "code",
   "execution_count": 33,
   "id": "baf7999c",
   "metadata": {},
   "outputs": [
    {
     "name": "stdout",
     "output_type": "stream",
     "text": [
      "['Retail and wholesale' 'Education' 'Hospitality and catering' 'Other'\n",
      " 'Info and telecom' 'Real-estate' 'Transport and warehousing'\n",
      " 'Construction' 'Finance and insurance' 'Healthcare and social help'\n",
      " 'Utilities' 'Energy' 'Processing' 'Agriculture, forestry and fishing'\n",
      " 'nan' 'Unknown' 'Art and entertainment' 'Civil service & military'\n",
      " 'Research' 'Administrative' 'Mining']\n",
      "['Retail and wholesale' 'Education' 'Hospitality and catering' 'Other'\n",
      " 'Info and telecom' 'Real-estate' 'Transport and warehousing'\n",
      " 'Construction' 'Finance and insurance' 'Healthcare and social help'\n",
      " 'Utilities' 'Energy' 'Processing' 'Agriculture, forestry and fishing' nan\n",
      " 'Unknown' 'Art and entertainment' 'Civil service & military' 'Research'\n",
      " 'Administrative' 'Mining']\n",
      "['Retail and wholesale' 'Education' 'Hospitality and catering' 'Other'\n",
      " 'Info and telecom' 'Real-estate' 'Transport and warehousing'\n",
      " 'Construction' 'Finance and insurance' 'Healthcare and social help'\n",
      " 'Utilities' 'Energy' 'Processing' 'Agriculture, forestry and fishing'\n",
      " 'Unknown' 'Art and entertainment' 'Civil service & military' 'Research'\n",
      " 'Administrative' 'Mining']\n"
     ]
    }
   ],
   "source": [
    "# OccupationArea\n",
    "# 1 Other 2 Mining 3 Processing 4 Energy 5 Utilities 6 Construction 7 Retail and wholesale\n",
    "# 8 Transport and warehousing 9 Hospitality and catering 10 Info and telecom 11 Finance and insurance \n",
    "# 12 Real-estate 13 Research 14 Administrative 15 Civil service & military 16 Education 17 Healthcare and social help \n",
    "# 18 Art and entertainment 19 Agriculture, forestry and fishing\n",
    "\n",
    "new_data['OccupationArea'] = new_data['OccupationArea'].astype(str)\n",
    "print(new_data['OccupationArea'].unique())\n",
    "\n",
    "mapping = {'-1.0':'Unknown','0.0': 'Unknown', '1.0': 'Other', '2.0': 'Mining', '3.0': 'Processing', '4.0': 'Energy', '5.0': 'Utilities', \n",
    "           '6.0': 'Construction', '7.0': 'Retail and wholesale', '8.0': 'Transport and warehousing', \n",
    "           '9.0': 'Hospitality and catering', '10.0': 'Info and telecom', '11.0': 'Finance and insurance', \n",
    "           '12.0': 'Real-estate', '13.0': 'Research', '14.0': 'Administrative', '15.0': 'Civil service & military', \n",
    "           '16.0': 'Education', '17.0': 'Healthcare and social help', '18.0': 'Art and entertainment', \n",
    "           '19.0': 'Agriculture, forestry and fishing','nan':np.nan}\n",
    "new_data['OccupationArea'] = new_data['OccupationArea'].replace(mapping)\n",
    "print(new_data['OccupationArea'].unique())\n",
    "\n",
    "new_data['OccupationArea'].fillna('Unknown',inplace=True)\n",
    "print(new_data['OccupationArea'].unique())"
   ]
  },
  {
   "cell_type": "code",
   "execution_count": 37,
   "id": "e1aaf295",
   "metadata": {},
   "outputs": [
    {
     "name": "stdout",
     "output_type": "stream",
     "text": [
      "['2.0' '4.0' '1.0' '3.0' '0.0' 'nan']\n",
      "['Income unverified, cross-referenced by phone'\n",
      " 'Income and expenses verified' 'Income unverified' 'Income verified'\n",
      " 'Not set' nan]\n",
      "['Income unverified, cross-referenced by phone'\n",
      " 'Income and expenses verified' 'Income unverified' 'Income verified'\n",
      " 'Not set']\n"
     ]
    }
   ],
   "source": [
    "# VerificationType\n",
    "# 0 Not set 1 Income unverified 2 Income unverified, cross-referenced by phone 3 Income verified 4 Income and expenses verified\n",
    "\n",
    "new_data['VerificationType'] = new_data['VerificationType'].astype(str)\n",
    "print(new_data['VerificationType'].unique())\n",
    "\n",
    "mapping = {'0.0': 'Not set', '1.0': 'Income unverified', '2.0': 'Income unverified, cross-referenced by phone', '3.0': 'Income verified', '4.0': 'Income and expenses verified','nan':np.nan}\n",
    "new_data['VerificationType'] = new_data['VerificationType'].replace(mapping)\n",
    "print(new_data['VerificationType'].unique())\n",
    "\n",
    "new_data['VerificationType'].fillna('Not set',inplace=True)\n",
    "print(new_data['VerificationType'].unique())"
   ]
  },
  {
   "cell_type": "code",
   "execution_count": 39,
   "id": "fdd337e5",
   "metadata": {},
   "outputs": [
    {
     "name": "stdout",
     "output_type": "stream",
     "text": [
      "['7' '2' '0' '6' '8' '3' '5' '4' '1' '110' '101' '102' '104' '108' '106'\n",
      " '107' '-1']\n",
      "['Other' 'Home improvement' 'Loan consolidation' 'Vehicle' 'Health'\n",
      " 'Business' 'Travel' 'Education' 'Real estate' 'Other business'\n",
      " 'Working capital financing' 'Purchase of machinery equipment'\n",
      " 'Accounts receivable financing' 'Acquisition of real estate'\n",
      " 'Construction finance' 'Acquisition of stocks' 'Unknown']\n"
     ]
    }
   ],
   "source": [
    "# UseOfLoan\n",
    "# 0 Loan consolidation 1 Real estate 2 Home improvement 3 Business 4 Education 5 Travel 6 Vehicle 7 Other \n",
    "# 8 Health 101 Working capital financing 102 Purchase of machinery equipment 103 Renovation of real estate\n",
    "# 104 Accounts receivable financing 105 Acquisition of means of transport 106 Construction finance 107 Acquisition of stocks \n",
    "# 108 Acquisition of real estate 109 Guaranteeing obligation 110 Other business\n",
    "\n",
    "new_data['UseOfLoan'] = new_data['UseOfLoan'].astype(str)\n",
    "print(new_data['UseOfLoan'].unique())\n",
    "\n",
    "mapping = {'-1':'Unknown','0': 'Loan consolidation', '1': 'Real estate', '2': 'Home improvement', '3': 'Business', \n",
    "           '4': 'Education', '5': 'Travel', '6': 'Vehicle', '7': 'Other', '8': 'Health', \n",
    "           '101': 'Working capital financing', '102': 'Purchase of machinery equipment', \n",
    "           '103': 'Renovation of real estate', '104': 'Accounts receivable financing', \n",
    "           '105': 'Acquisition of means of transport', '106': 'Construction finance', \n",
    "           '107': 'Acquisition of stocks', '108': 'Acquisition of real estate', \n",
    "           '109': 'Guaranteeing obligation', '110': 'Other business'}\n",
    "new_data['UseOfLoan'] = new_data['UseOfLoan'].replace(mapping)\n",
    "print(new_data['UseOfLoan'].unique())"
   ]
  },
  {
   "cell_type": "code",
   "execution_count": 40,
   "id": "e8e75ca7",
   "metadata": {},
   "outputs": [
    {
     "name": "stdout",
     "output_type": "stream",
     "text": [
      "<class 'pandas.core.frame.DataFrame'>\n",
      "RangeIndex: 134529 entries, 0 to 134528\n",
      "Data columns (total 52 columns):\n",
      " #   Column                                  Non-Null Count   Dtype  \n",
      "---  ------                                  --------------   -----  \n",
      " 0   ActiveScheduleFirstPaymentReached       134529 non-null  bool   \n",
      " 1   Age                                     134529 non-null  int64  \n",
      " 2   Amount                                  134529 non-null  float64\n",
      " 3   AmountOfPreviousLoansBeforeLoan         134529 non-null  float64\n",
      " 4   AppliedAmount                           134529 non-null  float64\n",
      " 5   BidsApi                                 134529 non-null  int64  \n",
      " 6   BidsManual                              134529 non-null  float64\n",
      " 7   BidsPortfolioManager                    134529 non-null  int64  \n",
      " 8   Country                                 134529 non-null  object \n",
      " 9   CreditScoreEeMini                       71722 non-null   float64\n",
      " 10  CreditScoreEsMicroL                     104955 non-null  object \n",
      " 11  DebtToIncome                            134484 non-null  float64\n",
      " 12  Education                               134529 non-null  object \n",
      " 13  EmploymentDurationCurrentEmployer       133653 non-null  object \n",
      " 14  EmploymentStatus                        134529 non-null  object \n",
      " 15  ExistingLiabilities                     134529 non-null  int64  \n",
      " 16  ExpectedLoss                            131893 non-null  float64\n",
      " 17  ExpectedReturn                          131893 non-null  float64\n",
      " 18  FreeCash                                134484 non-null  float64\n",
      " 19  Gender                                  134529 non-null  object \n",
      " 20  HomeOwnershipType                       134529 non-null  object \n",
      " 21  IncomeTotal                             134529 non-null  float64\n",
      " 22  Interest                                134529 non-null  float64\n",
      " 23  InterestAndPenaltyBalance               134529 non-null  float64\n",
      " 24  InterestAndPenaltyPaymentsMade          134529 non-null  float64\n",
      " 25  LanguageCode                            134529 non-null  object \n",
      " 26  LiabilitiesTotal                        134529 non-null  float64\n",
      " 27  LoanDuration                            134529 non-null  int64  \n",
      " 28  LossGivenDefault                        131893 non-null  float64\n",
      " 29  MaritalStatus                           134529 non-null  object \n",
      " 30  ModelVersion                            131893 non-null  float64\n",
      " 31  MonthlyPayment                          127844 non-null  float64\n",
      " 32  NewCreditCustomer                       134529 non-null  bool   \n",
      " 33  NextPaymentNr                           97788 non-null   float64\n",
      " 34  NoOfPreviousLoansBeforeLoan             134529 non-null  int64  \n",
      " 35  NrOfScheduledPayments                   97788 non-null   float64\n",
      " 36  OccupationArea                          134529 non-null  object \n",
      " 37  PlannedInterestTillDate                 130587 non-null  float64\n",
      " 38  PreviousEarlyRepaymentsCountBeforeLoan  134529 non-null  int64  \n",
      " 39  PreviousRepaymentsBeforeLoan            91368 non-null   float64\n",
      " 40  PrincipalBalance                        134529 non-null  float64\n",
      " 41  PrincipalOverdueBySchedule              119692 non-null  float64\n",
      " 42  PrincipalPaymentsMade                   134529 non-null  float64\n",
      " 43  ProbabilityOfDefault                    131893 non-null  float64\n",
      " 44  Rating                                  131799 non-null  object \n",
      " 45  RecoveryStage                           134529 non-null  object \n",
      " 46  RefinanceLiabilities                    134529 non-null  int64  \n",
      " 47  Restructured                            134529 non-null  bool   \n",
      " 48  Status                                  134529 non-null  object \n",
      " 49  UseOfLoan                               134529 non-null  object \n",
      " 50  VerificationType                        134529 non-null  object \n",
      " 51  WorseLateCategory                       89073 non-null   object \n",
      "dtypes: bool(3), float64(25), int64(8), object(16)\n",
      "memory usage: 50.7+ MB\n",
      "None\n"
     ]
    }
   ],
   "source": [
    "print(new_data.info(verbose=True))"
   ]
  },
  {
   "cell_type": "code",
   "execution_count": 41,
   "id": "7a92e1b8",
   "metadata": {},
   "outputs": [],
   "source": [
    "# get numerical features\n",
    "numerical_columns = []\n",
    "for column in new_data:\n",
    "    if(new_data[column].dtype == 'float64' or new_data[column].dtype == 'int64'):\n",
    "        numerical_columns.append(column)\n",
    "\n",
    "# get categorical features\n",
    "categorical_columns = []\n",
    "for column in new_data:\n",
    "    if(new_data[column].dtype == 'object'):\n",
    "        categorical_columns.append(column)  \n",
    "        \n",
    "# get boolean features\n",
    "boolean_columns = []\n",
    "for column in new_data:\n",
    "    if(new_data[column].dtype == 'bool'):\n",
    "        boolean_columns.append(column) "
   ]
  },
  {
   "cell_type": "markdown",
   "id": "ce378f0b",
   "metadata": {},
   "source": [
    "## - Handle missing values"
   ]
  },
  {
   "cell_type": "code",
   "execution_count": null,
   "id": "e37aee04",
   "metadata": {},
   "outputs": [],
   "source": [
    "for column in boolean_columns:\n",
    "    if(new_data[column].isnull().sum()):\n",
    "        print(column) \n",
    "    else:\n",
    "        print ('no nulls')       "
   ]
  },
  {
   "cell_type": "code",
   "execution_count": null,
   "id": "75c0689e",
   "metadata": {},
   "outputs": [],
   "source": []
  },
  {
   "cell_type": "code",
   "execution_count": null,
   "id": "7c41e684",
   "metadata": {},
   "outputs": [],
   "source": [
    "# handle missing values in categorical features with numerical values by replacing with mode \n",
    "categorical_with_numbers_features= ['CreditScoreEeMini','Education','EmploymentStatus','Gender','HomeOwnershipType','MaritalStatus','ModelVersion','OccupationArea',\n",
    "                                    'RecoveryStage','UseOfLoan','VerificationType']\n",
    "\n",
    "for col in categorical_with_numbers_features:\n",
    "    mode_value = new_data[col].mode().values[0]\n",
    "    new_data[col].fillna(mode_value,inplace=True)\n",
    "    \n",
    "for column in categorical_with_numbers_features:\n",
    "    unique_count = new_data[column].nunique()\n",
    "    if(unique_count <= 40):\n",
    "        print(unique_count, ' ', column)\n",
    "        print(new_data[column].unique())"
   ]
  },
  {
   "cell_type": "code",
   "execution_count": null,
   "id": "5073b319",
   "metadata": {
    "scrolled": true
   },
   "outputs": [],
   "source": [
    "# handle missing values for numerical features by replacing with mean \n",
    "for num_column in numerical_columns:\n",
    "    mean_value = new_data[num_column].mean()\n",
    "    new_data[num_column].fillna(mean_value,inplace=True)\n",
    "    \n",
    "# handle missing values for categorical features by replacing with mode \n",
    "for cat_column in categorical_columns:\n",
    "    mode_value = new_data[cat_column].mode().values[0]\n",
    "    new_data[cat_column].fillna(mode_value,inplace=True)\n",
    "\n",
    "for column in new_data:\n",
    "    unique_count = new_data[column].nunique()\n",
    "    if(unique_count <= 40):\n",
    "        print(unique_count, ' ', column)\n",
    "        print(new_data[column].unique())"
   ]
  },
  {
   "cell_type": "code",
   "execution_count": null,
   "id": "20313a8c",
   "metadata": {
    "scrolled": true
   },
   "outputs": [],
   "source": [
    "print(new_data.isnull().sum())"
   ]
  },
  {
   "cell_type": "markdown",
   "id": "216a62f3",
   "metadata": {},
   "source": [
    "## - Encoding Categorical Variables"
   ]
  },
  {
   "cell_type": "code",
   "execution_count": null,
   "id": "38d318e5",
   "metadata": {},
   "outputs": [],
   "source": [
    "# boolean to int\n",
    "for bool_column in boolean_columns:\n",
    "    new_data[bool_column] = new_data[bool_column].astype(int)"
   ]
  },
  {
   "cell_type": "code",
   "execution_count": null,
   "id": "53361974",
   "metadata": {},
   "outputs": [],
   "source": [
    "# convert features with values that contain date + time to contain only date\n",
    "date_time_features = ['BiddingStartedOn','LoanApplicationStartedDate','ListedOnUTC','StageActiveSince']\n",
    "for col in date_time_features:\n",
    "    new_data[col] = new_data[col].str.split().str[0]\n",
    "    \n",
    "print(new_data[date_time_features].nunique())"
   ]
  },
  {
   "cell_type": "code",
   "execution_count": null,
   "id": "96c3eab4",
   "metadata": {
    "scrolled": false
   },
   "outputs": [],
   "source": [
    "mapping = {'1-7': 1, '8-15': 2, '16-30': 3, '31-60': 4, '61-90': 5, '91-120': 6, '121-150': 7, '151-180': 8, '180+': 9}\n",
    "\n",
    "features = ['ActiveLateCategory','ActiveLateLastPaymentCategory','WorseLateCategory']\n",
    "new_data[features] = new_data[features].replace(mapping)\n",
    "\n",
    "for col in features:\n",
    "    print(new_data[col].unique())"
   ]
  },
  {
   "cell_type": "code",
   "execution_count": null,
   "id": "107ecc80",
   "metadata": {},
   "outputs": [],
   "source": [
    "mapping = { 'LessThan2Years':1,'2To5Years':2,'5To10Years':3,'10To15Years':4,'15To25Years':5,'MoreThan25Years':6}\n",
    "\n",
    "new_data['WorkExperience'] = new_data['WorkExperience'].replace(mapping)\n",
    "\n",
    "print(new_data['WorkExperience'].unique())"
   ]
  },
  {
   "cell_type": "code",
   "execution_count": null,
   "id": "9155c9f0",
   "metadata": {},
   "outputs": [],
   "source": [
    "new_data['CreditScoreEsMicroL'] = new_data['CreditScoreEsMicroL'].str[1:].astype(int)\n",
    "\n",
    "print(new_data['CreditScoreEsMicroL'].unique())"
   ]
  },
  {
   "cell_type": "code",
   "execution_count": null,
   "id": "94588631",
   "metadata": {},
   "outputs": [],
   "source": [
    "mapping = {'TrialPeriod':0,'UpTo1Year':1,'UpTo2Years':2,'UpTo3Years':3,'UpTo4Years':4,'UpTo5Years':5,'MoreThan5Years':6,'Retiree':7,'Other':8}\n",
    "\n",
    "new_data['EmploymentDurationCurrentEmployer'] = new_data['EmploymentDurationCurrentEmployer'].replace(mapping)\n",
    "\n",
    "print(new_data['EmploymentDurationCurrentEmployer'].unique())"
   ]
  },
  {
   "cell_type": "code",
   "execution_count": null,
   "id": "644041c3",
   "metadata": {},
   "outputs": [],
   "source": [
    "new_data['NrOfDependants'] = new_data['NrOfDependants'].str[:2].astype(int)\n",
    "\n",
    "print(new_data['NrOfDependants'].unique())"
   ]
  },
  {
   "cell_type": "code",
   "execution_count": null,
   "id": "82ff6590",
   "metadata": {},
   "outputs": [],
   "source": [
    "mapping = {'AA':1,'A':2,'B':3,'C':4,'D':5,'E':6,'F':7,'HR':8  }\n",
    "\n",
    "new_data['Rating'] = new_data['Rating'].replace(mapping)\n",
    "\n",
    "print(new_data['Rating'].unique())"
   ]
  },
  {
   "cell_type": "code",
   "execution_count": null,
   "id": "d44d596e",
   "metadata": {},
   "outputs": [],
   "source": [
    "mapping = {'EE':1,'FI':2,'ES':3,'SK':4}\n",
    "\n",
    "new_data['Country'] = new_data['Country'].replace(mapping)\n",
    "\n",
    "print(new_data['Country'].unique())"
   ]
  },
  {
   "cell_type": "markdown",
   "id": "1734d9b4",
   "metadata": {},
   "source": [
    "## - Handle outliers"
   ]
  },
  {
   "cell_type": "code",
   "execution_count": null,
   "id": "e2796784",
   "metadata": {
    "scrolled": true
   },
   "outputs": [],
   "source": [
    "def outliers_handling(column):\n",
    "    Q1 = column.quantile(0.25)\n",
    "    Q3 = column.quantile(0.75)\n",
    "    lower_range = Q1 - 1.5 * (Q3 - Q1)\n",
    "    upper_range = Q3 + 1.5 * (Q3 - Q1)\n",
    "    column = np.where(column > upper_range, upper_range, column)\n",
    "    column = np.where(column < lower_range, lower_range, column)\n",
    "    return column\n",
    "\n",
    "for num_column in numerical_columns:\n",
    "    new_data[num_column] = outliers_handling(new_data[num_column])"
   ]
  },
  {
   "cell_type": "code",
   "execution_count": null,
   "id": "b97c477d",
   "metadata": {},
   "outputs": [],
   "source": [
    "for num_column in numerical_columns:\n",
    "    new_data[num_column].fillna(new_data[num_column].mean(),inplace=True)\n",
    "    print(num_column,' ' , new_data[num_column].isnull().sum())\n",
    "    \n",
    "for cat_column in categorical_columns:\n",
    "#     print(cat_column,' ' , new_data[cat_column].isnull().sum())\n",
    "    new_data[cat_column].fillna(new_data[cat_column].mode().values[0],inplace=True)\n",
    "    print(cat_column,' ' , new_data[cat_column].isnull().sum())"
   ]
  },
  {
   "cell_type": "code",
   "execution_count": null,
   "id": "e156b57e",
   "metadata": {
    "scrolled": true
   },
   "outputs": [],
   "source": []
  },
  {
   "cell_type": "code",
   "execution_count": null,
   "id": "6ee9ee08",
   "metadata": {},
   "outputs": [],
   "source": []
  },
  {
   "cell_type": "code",
   "execution_count": null,
   "id": "2c9dde10",
   "metadata": {},
   "outputs": [],
   "source": []
  },
  {
   "cell_type": "code",
   "execution_count": null,
   "id": "038fc459",
   "metadata": {},
   "outputs": [],
   "source": []
  }
 ],
 "metadata": {
  "kernelspec": {
   "display_name": "Python 3 (ipykernel)",
   "language": "python",
   "name": "python3"
  },
  "language_info": {
   "codemirror_mode": {
    "name": "ipython",
    "version": 3
   },
   "file_extension": ".py",
   "mimetype": "text/x-python",
   "name": "python",
   "nbconvert_exporter": "python",
   "pygments_lexer": "ipython3",
   "version": "3.9.12"
  }
 },
 "nbformat": 4,
 "nbformat_minor": 5
}
